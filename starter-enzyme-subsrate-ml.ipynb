{
 "cells": [
  {
   "cell_type": "markdown",
   "metadata": {
    "papermill": {
     "duration": 0.007276,
     "end_time": "2020-12-25T08:36:21.330141",
     "exception": false,
     "start_time": "2020-12-25T08:36:21.322865",
     "status": "completed"
    },
    "tags": []
   },
   "source": [
    "## Introduction\n",
    "Greetings from the Kaggle bot! This is an automatically-generated kernel with starter code demonstrating how to read in the data and begin exploring. If you're inspired to dig deeper, click the blue \"Fork Notebook\" button at the top of this kernel to begin editing."
   ]
  },
  {
   "cell_type": "code",
   "execution_count": 5,
   "metadata": {},
   "outputs": [
    {
     "name": "stdout",
     "output_type": "stream",
     "text": [
      "\u001b[33mWARNING: Ignoring invalid distribution -andas (/Users/ndjebayidamarisstephanie/miniconda3/lib/python3.10/site-packages)\u001b[0m\u001b[33m\n",
      "\u001b[0m\u001b[33mWARNING: Ignoring invalid distribution -andas (/Users/ndjebayidamarisstephanie/miniconda3/lib/python3.10/site-packages)\u001b[0m\u001b[33m\n",
      "\u001b[0mCollecting umap\n",
      "  Downloading umap-0.1.1.tar.gz (3.2 kB)\n",
      "  Preparing metadata (setup.py) ... \u001b[?25ldone\n",
      "\u001b[?25hBuilding wheels for collected packages: umap\n",
      "  Building wheel for umap (setup.py) ... \u001b[?25ldone\n",
      "\u001b[?25h  Created wheel for umap: filename=umap-0.1.1-py3-none-any.whl size=3542 sha256=f82bc0f3fdcef016e89d20bc9045d44c5d5b578940b808b3b9acd20b7d9262bb\n",
      "  Stored in directory: /Users/ndjebayidamarisstephanie/Library/Caches/pip/wheels/15/f1/28/53dcf7a309118ed35d810a5f9cb995217800f3f269ab5771cb\n",
      "Successfully built umap\n",
      "\u001b[33mWARNING: Ignoring invalid distribution -andas (/Users/ndjebayidamarisstephanie/miniconda3/lib/python3.10/site-packages)\u001b[0m\u001b[33m\n",
      "\u001b[0mInstalling collected packages: umap\n",
      "\u001b[33mWARNING: Ignoring invalid distribution -andas (/Users/ndjebayidamarisstephanie/miniconda3/lib/python3.10/site-packages)\u001b[0m\u001b[33m\n",
      "\u001b[0mSuccessfully installed umap-0.1.1\n",
      "\u001b[33mWARNING: Ignoring invalid distribution -andas (/Users/ndjebayidamarisstephanie/miniconda3/lib/python3.10/site-packages)\u001b[0m\u001b[33m\n",
      "\u001b[0m\u001b[33mWARNING: Ignoring invalid distribution -andas (/Users/ndjebayidamarisstephanie/miniconda3/lib/python3.10/site-packages)\u001b[0m\u001b[33m\n",
      "\u001b[0m\u001b[33mWARNING: Ignoring invalid distribution -andas (/Users/ndjebayidamarisstephanie/miniconda3/lib/python3.10/site-packages)\u001b[0m\u001b[33m\n",
      "\u001b[0m"
     ]
    }
   ],
   "source": [
    "! pip install umap"
   ]
  },
  {
   "cell_type": "code",
   "execution_count": 3,
   "metadata": {},
   "outputs": [
    {
     "name": "stdout",
     "output_type": "stream",
     "text": [
      "\u001b[33mWARNING: Ignoring invalid distribution -andas (/Users/ndjebayidamarisstephanie/miniconda3/lib/python3.10/site-packages)\u001b[0m\n",
      "\u001b[33mWARNING: Ignoring invalid distribution -andas (/Users/ndjebayidamarisstephanie/miniconda3/lib/python3.10/site-packages)\u001b[0m\n",
      "Collecting pip==23.1.2\n",
      "  Using cached pip-23.1.2-py3-none-any.whl (2.1 MB)\n",
      "\u001b[33mWARNING: Ignoring invalid distribution -andas (/Users/ndjebayidamarisstephanie/miniconda3/lib/python3.10/site-packages)\u001b[0m\n",
      "Installing collected packages: pip\n",
      "  Attempting uninstall: pip\n",
      "\u001b[33m    WARNING: Ignoring invalid distribution -andas (/Users/ndjebayidamarisstephanie/miniconda3/lib/python3.10/site-packages)\u001b[0m\n",
      "    Found existing installation: pip 21.3.1\n",
      "    Uninstalling pip-21.3.1:\n",
      "      Successfully uninstalled pip-21.3.1\n",
      "\u001b[33mWARNING: Ignoring invalid distribution -andas (/Users/ndjebayidamarisstephanie/miniconda3/lib/python3.10/site-packages)\u001b[0m\n",
      "Successfully installed pip-23.1.2\n",
      "\u001b[33mWARNING: Ignoring invalid distribution -andas (/Users/ndjebayidamarisstephanie/miniconda3/lib/python3.10/site-packages)\u001b[0m\n",
      "\u001b[33mWARNING: Ignoring invalid distribution -andas (/Users/ndjebayidamarisstephanie/miniconda3/lib/python3.10/site-packages)\u001b[0m\n",
      "\u001b[33mWARNING: Ignoring invalid distribution -andas (/Users/ndjebayidamarisstephanie/miniconda3/lib/python3.10/site-packages)\u001b[0m\n"
     ]
    }
   ],
   "source": [
    "!pip install pip==23.1.2"
   ]
  },
  {
   "cell_type": "code",
   "execution_count": 11,
   "metadata": {},
   "outputs": [
    {
     "name": "stdout",
     "output_type": "stream",
     "text": [
      "Cloning into 'LightGBM'...\n",
      "remote: Enumerating objects: 29681, done.\u001b[K\n",
      "remote: Counting objects: 100% (3476/3476), done.\u001b[K\n",
      "remote: Compressing objects: 100% (338/338), done.\u001b[K\n",
      "remote: Total 29681 (delta 3254), reused 3273 (delta 3137), pack-reused 26205\u001b[K\n",
      "Receiving objects: 100% (29681/29681), 20.49 MiB | 538.00 KiB/s, done.\n",
      "Resolving deltas: 100% (22074/22074), done.\n",
      "Submodule 'include/boost/compute' (https://github.com/boostorg/compute) registered for path 'external_libs/compute'\n",
      "Submodule 'eigen' (https://gitlab.com/libeigen/eigen.git) registered for path 'external_libs/eigen'\n",
      "Submodule 'external_libs/fast_double_parser' (https://github.com/lemire/fast_double_parser.git) registered for path 'external_libs/fast_double_parser'\n",
      "Submodule 'external_libs/fmt' (https://github.com/fmtlib/fmt.git) registered for path 'external_libs/fmt'\n",
      "Cloning into '/Users/ndjebayidamarisstephanie/Documents/Protein Engineering Tournament/LightGBM/external_libs/compute'...\n",
      "remote: Enumerating objects: 21733, done.        \n",
      "remote: Counting objects: 100% (5/5), done.        \n",
      "remote: Compressing objects: 100% (4/4), done.        \n",
      "remote: Total 21733 (delta 1), reused 3 (delta 1), pack-reused 21728        \n",
      "Receiving objects: 100% (21733/21733), 8.51 MiB | 937.00 KiB/s, done.\n",
      "Resolving deltas: 100% (17567/17567), done.\n",
      "Cloning into '/Users/ndjebayidamarisstephanie/Documents/Protein Engineering Tournament/LightGBM/external_libs/eigen'...\n",
      "remote: Enumerating objects: 119499, done.        \n",
      "remote: Counting objects: 100% (1178/1178), done.        \n",
      "remote: Compressing objects: 100% (387/387), done.        \n",
      "remote: Total 119499 (delta 826), reused 1118 (delta 790), pack-reused 118321        \n",
      "Receiving objects: 100% (119499/119499), 103.63 MiB | 502.00 KiB/s, done.\n",
      "Resolving deltas: 100% (98661/98661), done.\n",
      "Cloning into '/Users/ndjebayidamarisstephanie/Documents/Protein Engineering Tournament/LightGBM/external_libs/fast_double_parser'...\n",
      "remote: Enumerating objects: 781, done.        \n",
      "remote: Counting objects: 100% (180/180), done.        \n",
      "remote: Compressing objects: 100% (66/66), done.        \n",
      "remote: Total 781 (delta 124), reused 131 (delta 103), pack-reused 601        \n",
      "Receiving objects: 100% (781/781), 833.52 KiB | 66.00 KiB/s, done.\n",
      "Resolving deltas: 100% (395/395), done.\n",
      "Cloning into '/Users/ndjebayidamarisstephanie/Documents/Protein Engineering Tournament/LightGBM/external_libs/fmt'...\n",
      "remote: Enumerating objects: 32423, done.        \n",
      "remote: Counting objects: 100% (2951/2951), done.        \n",
      "remote: Compressing objects: 100% (154/154), done.                \n",
      "remote: Total 32423 (delta 2812), reused 2841 (delta 2779), pack-reused 29472        \n",
      "Receiving objects: 100% (32423/32423), 13.79 MiB | 653.00 KiB/s, done.\n",
      "Resolving deltas: 100% (22000/22000), done.\n",
      "Submodule path 'external_libs/compute': checked out '36350b7de849300bd3d72a05d8bf890ca405a014'\n",
      "Submodule path 'external_libs/eigen': checked out '3147391d946bb4b6c68edd901f2add6ac1f31f8c'\n",
      "Submodule path 'external_libs/fast_double_parser': checked out 'ace60646c02dc54c57f19d644e49a61e7e7758ec'\n",
      "Submodule 'benchmark/dependencies/abseil-cpp' (https://github.com/abseil/abseil-cpp.git) registered for path 'external_libs/fast_double_parser/benchmarks/dependencies/abseil-cpp'\n",
      "Submodule 'benchmark/dependencies/double-conversion' (https://github.com/google/double-conversion.git) registered for path 'external_libs/fast_double_parser/benchmarks/dependencies/double-conversion'\n",
      "Cloning into '/Users/ndjebayidamarisstephanie/Documents/Protein Engineering Tournament/LightGBM/external_libs/fast_double_parser/benchmarks/dependencies/abseil-cpp'...\n",
      "remote: Enumerating objects: 22138, done.        \n",
      "remote: Counting objects: 100% (3513/3513), done.        \n",
      "remote: Compressing objects: 100% (999/999), done.        \n",
      "remote: Total 22138 (delta 2640), reused 2649 (delta 2514), pack-reused 18625        \n",
      "Receiving objects: 100% (22138/22138), 12.92 MiB | 167.00 KiB/s, done.\n",
      "Resolving deltas: 100% (17477/17477), done.\n",
      "Cloning into '/Users/ndjebayidamarisstephanie/Documents/Protein Engineering Tournament/LightGBM/external_libs/fast_double_parser/benchmarks/dependencies/double-conversion'...\n",
      "remote: Enumerating objects: 1381, done.        \n",
      "remote: Counting objects: 100% (225/225), done.        \n",
      "remote: Compressing objects: 100% (120/120), done.        \n",
      "remote: Total 1381 (delta 123), reused 180 (delta 96), pack-reused 1156        \n",
      "Receiving objects: 100% (1381/1381), 7.15 MiB | 352.00 KiB/s, done.\n",
      "Resolving deltas: 100% (895/895), done.\n",
      "Submodule path 'external_libs/fast_double_parser/benchmarks/dependencies/abseil-cpp': checked out 'd936052d32a5b7ca08b0199a6724724aea432309'\n",
      "Submodule path 'external_libs/fast_double_parser/benchmarks/dependencies/double-conversion': checked out 'f4cb2384efa55dee0e6652f8674b05763441ab09'\n",
      "Submodule path 'external_libs/fmt': checked out 'b6f4ceaed0a0a24ccf575fab6c56dd50ccf6f1a9'\n",
      "python: can't open file '/Users/ndjebayidamarisstephanie/Documents/Protein Engineering Tournament/setup.py': [Errno 2] No such file or directory\n"
     ]
    }
   ],
   "source": [
    "! git clone --recursive https://github.com/microsoft/LightGBM.git\n",
    "#! cd LightGBM/python-package\n",
    "# export CXX=g++-7 CC=gcc-7  # macOS users, if you decided to compile with gcc, don't forget to specify compilers (replace \"7\" with version of gcc installed on your machine)\n"
   ]
  },
  {
   "cell_type": "code",
   "execution_count": 13,
   "metadata": {},
   "outputs": [
    {
     "name": "stdout",
     "output_type": "stream",
     "text": [
      "Traceback (most recent call last):\r\n",
      "  File \"/Users/ndjebayidamarisstephanie/Documents/Protein Engineering Tournament/./LightGBM/python-package/setup.py\", line 300, in <module>\r\n",
      "    version = _version_file.read_text(encoding='utf-8').strip()\r\n",
      "  File \"/Users/ndjebayidamarisstephanie/miniconda3/lib/python3.10/pathlib.py\", line 1134, in read_text\r\n",
      "    with self.open(mode='r', encoding=encoding, errors=errors) as f:\r\n",
      "  File \"/Users/ndjebayidamarisstephanie/miniconda3/lib/python3.10/pathlib.py\", line 1119, in open\r\n",
      "    return self._accessor.open(self, mode, buffering, encoding, errors,\r\n",
      "FileNotFoundError: [Errno 2] No such file or directory: '/Users/ndjebayidamarisstephanie/Documents/Protein Engineering Tournament/LightGBM/python-package/lightgbm/VERSION.txt'\r\n"
     ]
    }
   ],
   "source": [
    "! python ./LightGBM/python-package/setup.py install"
   ]
  },
  {
   "cell_type": "code",
   "execution_count": 6,
   "metadata": {},
   "outputs": [
    {
     "ename": "ModuleNotFoundError",
     "evalue": "No module named 'plotly'",
     "output_type": "error",
     "traceback": [
      "\u001b[0;31m---------------------------------------------------------------------------\u001b[0m",
      "\u001b[0;31mModuleNotFoundError\u001b[0m                       Traceback (most recent call last)",
      "Cell \u001b[0;32mIn[6], line 29\u001b[0m\n\u001b[1;32m     27\u001b[0m \u001b[38;5;28;01mfrom\u001b[39;00m \u001b[38;5;21;01mtqdm\u001b[39;00m\u001b[38;5;21;01m.\u001b[39;00m\u001b[38;5;21;01mauto\u001b[39;00m \u001b[38;5;28;01mimport\u001b[39;00m tqdm\n\u001b[1;32m     28\u001b[0m \u001b[38;5;28;01mimport\u001b[39;00m \u001b[38;5;21;01mjoblib\u001b[39;00m\n\u001b[0;32m---> 29\u001b[0m \u001b[38;5;28;01mimport\u001b[39;00m \u001b[38;5;21;01mplotly\u001b[39;00m\u001b[38;5;21;01m.\u001b[39;00m\u001b[38;5;21;01moffline\u001b[39;00m \u001b[38;5;28;01mas\u001b[39;00m \u001b[38;5;21;01mpy\u001b[39;00m\n\u001b[1;32m     30\u001b[0m py\u001b[38;5;241m.\u001b[39minit_notebook_mode(connected\u001b[38;5;241m=\u001b[39m\u001b[38;5;28;01mTrue\u001b[39;00m)\n\u001b[1;32m     31\u001b[0m \u001b[38;5;28;01mimport\u001b[39;00m \u001b[38;5;21;01mplotly\u001b[39;00m\u001b[38;5;21;01m.\u001b[39;00m\u001b[38;5;21;01mgraph_objs\u001b[39;00m \u001b[38;5;28;01mas\u001b[39;00m \u001b[38;5;21;01mgo\u001b[39;00m\n",
      "\u001b[0;31mModuleNotFoundError\u001b[0m: No module named 'plotly'"
     ]
    }
   ],
   "source": [
    "import pandas as pd\n",
    "import torch\n",
    "import esm\n",
    "import requests\n",
    "import re\n",
    "import json\n",
    "import matplotlib.pyplot as plt\n",
    "import seaborn as sns\n",
    "import random\n",
    "from sklearn.preprocessing import StandardScaler\n",
    "from sklearn.decomposition import PCA\n",
    "from sklearn.manifold import TSNE\n",
    "import umap\n",
    "import trimap\n",
    "from sklearn.ensemble import RandomForestRegressor\n",
    "#import lightgbm as lgb\n",
    "#import xgboost as xgb\n",
    "from skopt import gp_minimize # Bayesian optimization using Gaussian Processes\n",
    "from skopt.space import Real, Categorical, Integer\n",
    "from skopt.utils import use_named_args\n",
    "from sklearn.model_selection import train_test_split, KFold, cross_val_score\n",
    "from sklearn.linear_model import LassoCV, HuberRegressor\n",
    "from sklearn.metrics import mean_absolute_error, r2_score, make_scorer\n",
    "import scipy\n",
    "import numpy as np\n",
    "from IPython.display import Image\n",
    "from tqdm.auto import tqdm\n",
    "import joblib\n",
    "import plotly.offline as py\n",
    "py.init_notebook_mode(connected=True)\n",
    "import plotly.graph_objs as go\n",
    "import plotly.express as px\n",
    "from heatmap import corrplot\n",
    "%matplotlib inline"
   ]
  },
  {
   "cell_type": "code",
   "execution_count": 5,
   "metadata": {},
   "outputs": [
    {
     "name": "stdout",
     "output_type": "stream",
     "text": [
      "\u001b[33mWARNING: Ignoring invalid distribution -andas (/Users/ndjebayidamarisstephanie/miniconda3/lib/python3.10/site-packages)\u001b[0m\u001b[33m\n",
      "\u001b[0mCollecting scikit-optimize[plots]\n",
      "  Downloading scikit_optimize-0.9.0-py2.py3-none-any.whl (100 kB)\n",
      "\u001b[2K     \u001b[90m━━━━━━━━━━━━━━━━━━━━━━━━━━━━━━━━━━━━━\u001b[0m \u001b[32m100.3/100.3 kB\u001b[0m \u001b[31m100.7 kB/s\u001b[0m eta \u001b[36m0:00:00\u001b[0ma \u001b[36m0:00:01\u001b[0m\n",
      "\u001b[?25hRequirement already satisfied: joblib>=0.11 in /Users/ndjebayidamarisstephanie/miniconda3/lib/python3.10/site-packages (from scikit-optimize[plots]) (1.2.0)\n",
      "Collecting pyaml>=16.9 (from scikit-optimize[plots])\n",
      "  Downloading pyaml-23.5.9-py3-none-any.whl (17 kB)\n",
      "Requirement already satisfied: numpy>=1.13.3 in /Users/ndjebayidamarisstephanie/miniconda3/lib/python3.10/site-packages (from scikit-optimize[plots]) (1.24.3)\n",
      "Requirement already satisfied: scipy>=0.19.1 in /Users/ndjebayidamarisstephanie/miniconda3/lib/python3.10/site-packages (from scikit-optimize[plots]) (1.10.1)\n",
      "Requirement already satisfied: scikit-learn>=0.20.0 in /Users/ndjebayidamarisstephanie/miniconda3/lib/python3.10/site-packages (from scikit-optimize[plots]) (1.2.2)\n",
      "Requirement already satisfied: matplotlib>=2.0.0 in /Users/ndjebayidamarisstephanie/miniconda3/lib/python3.10/site-packages (from scikit-optimize[plots]) (3.7.1)\n",
      "Requirement already satisfied: contourpy>=1.0.1 in /Users/ndjebayidamarisstephanie/miniconda3/lib/python3.10/site-packages (from matplotlib>=2.0.0->scikit-optimize[plots]) (1.0.7)\n",
      "Requirement already satisfied: cycler>=0.10 in /Users/ndjebayidamarisstephanie/miniconda3/lib/python3.10/site-packages (from matplotlib>=2.0.0->scikit-optimize[plots]) (0.11.0)\n",
      "Requirement already satisfied: fonttools>=4.22.0 in /Users/ndjebayidamarisstephanie/miniconda3/lib/python3.10/site-packages (from matplotlib>=2.0.0->scikit-optimize[plots]) (4.39.4)\n",
      "Requirement already satisfied: kiwisolver>=1.0.1 in /Users/ndjebayidamarisstephanie/miniconda3/lib/python3.10/site-packages (from matplotlib>=2.0.0->scikit-optimize[plots]) (1.4.4)\n",
      "Requirement already satisfied: packaging>=20.0 in /Users/ndjebayidamarisstephanie/miniconda3/lib/python3.10/site-packages (from matplotlib>=2.0.0->scikit-optimize[plots]) (23.0)\n",
      "Requirement already satisfied: pillow>=6.2.0 in /Users/ndjebayidamarisstephanie/miniconda3/lib/python3.10/site-packages (from matplotlib>=2.0.0->scikit-optimize[plots]) (9.5.0)\n",
      "Requirement already satisfied: pyparsing>=2.3.1 in /Users/ndjebayidamarisstephanie/miniconda3/lib/python3.10/site-packages (from matplotlib>=2.0.0->scikit-optimize[plots]) (3.0.9)\n",
      "Requirement already satisfied: python-dateutil>=2.7 in /Users/ndjebayidamarisstephanie/miniconda3/lib/python3.10/site-packages (from matplotlib>=2.0.0->scikit-optimize[plots]) (2.8.2)\n",
      "Requirement already satisfied: PyYAML in /Users/ndjebayidamarisstephanie/miniconda3/lib/python3.10/site-packages (from pyaml>=16.9->scikit-optimize[plots]) (5.1)\n",
      "Requirement already satisfied: threadpoolctl>=2.0.0 in /Users/ndjebayidamarisstephanie/miniconda3/lib/python3.10/site-packages (from scikit-learn>=0.20.0->scikit-optimize[plots]) (3.1.0)\n",
      "Requirement already satisfied: six>=1.5 in /Users/ndjebayidamarisstephanie/miniconda3/lib/python3.10/site-packages (from python-dateutil>=2.7->matplotlib>=2.0.0->scikit-optimize[plots]) (1.12.0)\n",
      "\u001b[33mWARNING: Ignoring invalid distribution -andas (/Users/ndjebayidamarisstephanie/miniconda3/lib/python3.10/site-packages)\u001b[0m\u001b[33m\n",
      "\u001b[0mInstalling collected packages: pyaml, scikit-optimize\n",
      "Successfully installed pyaml-23.5.9 scikit-optimize-0.9.0\n"
     ]
    }
   ],
   "source": [
    "! pip install 'scikit-optimize[plots]'"
   ]
  },
  {
   "cell_type": "code",
   "execution_count": 1,
   "metadata": {},
   "outputs": [],
   "source": [
    "import pandas as pd"
   ]
  },
  {
   "cell_type": "code",
   "execution_count": 4,
   "metadata": {},
   "outputs": [
    {
     "name": "stdout",
     "output_type": "stream",
     "text": [
      "Damaris Daily Log (Spring 2022 Internship).docx\r\n",
      "Damaris Ndjebayi ML Modeling Tasks (Spring 2022 Internship).docx\r\n",
      "Damaris Ndjebayi Onboarding Tasks (Spring 2022 Internship).docx\r\n",
      "Damaris Onboarding Tasks.docx\r\n",
      "\u001b[34mdata\u001b[m\u001b[m\r\n",
      "data-5.zip\r\n",
      "fair-transformer-understands-proteins-let-s-check.ipynb\r\n",
      "starter-enzyme-subsrate-ml.ipynb\r\n"
     ]
    }
   ],
   "source": [
    "! ls"
   ]
  },
  {
   "cell_type": "code",
   "execution_count": 7,
   "metadata": {},
   "outputs": [],
   "source": [
    "train_data = pd.read_csv('./data/train.csv')\n",
    "test_data = pd.read_csv('./data/test.csv')"
   ]
  },
  {
   "cell_type": "code",
   "execution_count": 8,
   "metadata": {},
   "outputs": [
    {
     "data": {
      "text/html": [
       "<div>\n",
       "<style scoped>\n",
       "    .dataframe tbody tr th:only-of-type {\n",
       "        vertical-align: middle;\n",
       "    }\n",
       "\n",
       "    .dataframe tbody tr th {\n",
       "        vertical-align: top;\n",
       "    }\n",
       "\n",
       "    .dataframe thead th {\n",
       "        text-align: right;\n",
       "    }\n",
       "</style>\n",
       "<table border=\"1\" class=\"dataframe\">\n",
       "  <thead>\n",
       "    <tr style=\"text-align: right;\">\n",
       "      <th></th>\n",
       "      <th>mutated_sequence</th>\n",
       "      <th>mutant</th>\n",
       "      <th>Carboxy 4-methylumbelliferyl phosphate ester (cMUP)</th>\n",
       "      <th>methyl phosphate (MeP)</th>\n",
       "      <th>methyl phosphodiester (MecMUP)</th>\n",
       "    </tr>\n",
       "  </thead>\n",
       "  <tbody>\n",
       "    <tr>\n",
       "      <th>0</th>\n",
       "      <td>MDIGIDSDPQKTNAVPRPKLVVGLVVDQMRWDYLYRYYSKYGEGGF...</td>\n",
       "      <td>WT</td>\n",
       "      <td>1400000</td>\n",
       "      <td>610000</td>\n",
       "      <td>16.0</td>\n",
       "    </tr>\n",
       "    <tr>\n",
       "      <th>1</th>\n",
       "      <td>MDIGIDSDPQKTNAVPRPKLVVGLVVDQMRWDYLYRYYSKYGEGGF...</td>\n",
       "      <td>S115G</td>\n",
       "      <td>820000</td>\n",
       "      <td>380000</td>\n",
       "      <td>24.0</td>\n",
       "    </tr>\n",
       "    <tr>\n",
       "      <th>2</th>\n",
       "      <td>MDIGIDSDPQKTNAVPRPKLVVGLVVDQMRWDYLYRYYSKYGEGGF...</td>\n",
       "      <td>L56V</td>\n",
       "      <td>1100000</td>\n",
       "      <td>210000</td>\n",
       "      <td>8.7</td>\n",
       "    </tr>\n",
       "    <tr>\n",
       "      <th>3</th>\n",
       "      <td>MDIGIDSDPQKTNAVPRPKLVVGLVVDQMRWDYLYRYYSKYGEGGF...</td>\n",
       "      <td>L314G</td>\n",
       "      <td>22000</td>\n",
       "      <td>4100</td>\n",
       "      <td>1.3</td>\n",
       "    </tr>\n",
       "    <tr>\n",
       "      <th>4</th>\n",
       "      <td>MDIGIDSDPQKTNAVPRPKLVVGLVVDQMRWDYLYRYYSKYGEGGF...</td>\n",
       "      <td>G278A</td>\n",
       "      <td>1100000</td>\n",
       "      <td>180000</td>\n",
       "      <td>12.0</td>\n",
       "    </tr>\n",
       "  </tbody>\n",
       "</table>\n",
       "</div>"
      ],
      "text/plain": [
       "                                    mutated_sequence mutant   \n",
       "0  MDIGIDSDPQKTNAVPRPKLVVGLVVDQMRWDYLYRYYSKYGEGGF...     WT  \\\n",
       "1  MDIGIDSDPQKTNAVPRPKLVVGLVVDQMRWDYLYRYYSKYGEGGF...  S115G   \n",
       "2  MDIGIDSDPQKTNAVPRPKLVVGLVVDQMRWDYLYRYYSKYGEGGF...   L56V   \n",
       "3  MDIGIDSDPQKTNAVPRPKLVVGLVVDQMRWDYLYRYYSKYGEGGF...  L314G   \n",
       "4  MDIGIDSDPQKTNAVPRPKLVVGLVVDQMRWDYLYRYYSKYGEGGF...  G278A   \n",
       "\n",
       "   Carboxy 4-methylumbelliferyl phosphate ester (cMUP)   \n",
       "0                                            1400000    \\\n",
       "1                                             820000     \n",
       "2                                            1100000     \n",
       "3                                              22000     \n",
       "4                                            1100000     \n",
       "\n",
       "   methyl phosphate (MeP)  methyl phosphodiester (MecMUP)  \n",
       "0                  610000                            16.0  \n",
       "1                  380000                            24.0  \n",
       "2                  210000                             8.7  \n",
       "3                    4100                             1.3  \n",
       "4                  180000                            12.0  "
      ]
     },
     "execution_count": 8,
     "metadata": {},
     "output_type": "execute_result"
    }
   ],
   "source": [
    "train_data.head()"
   ]
  },
  {
   "cell_type": "code",
   "execution_count": 9,
   "metadata": {
    "scrolled": true
   },
   "outputs": [
    {
     "data": {
      "text/html": [
       "<div>\n",
       "<style scoped>\n",
       "    .dataframe tbody tr th:only-of-type {\n",
       "        vertical-align: middle;\n",
       "    }\n",
       "\n",
       "    .dataframe tbody tr th {\n",
       "        vertical-align: top;\n",
       "    }\n",
       "\n",
       "    .dataframe thead th {\n",
       "        text-align: right;\n",
       "    }\n",
       "</style>\n",
       "<table border=\"1\" class=\"dataframe\">\n",
       "  <thead>\n",
       "    <tr style=\"text-align: right;\">\n",
       "      <th></th>\n",
       "      <th>mutated_sequence</th>\n",
       "      <th>mutant</th>\n",
       "      <th>Carboxy 4-methylumbelliferyl phosphate ester (cMUP)</th>\n",
       "      <th>methyl phosphate (MeP)</th>\n",
       "      <th>methyl phosphodiester (MecMUP)</th>\n",
       "    </tr>\n",
       "  </thead>\n",
       "  <tbody>\n",
       "    <tr>\n",
       "      <th>0</th>\n",
       "      <td>MDIGIDSDPQKTNAVPRPKLVVGLVVDQMRWDYLYRYYSKYGEGGF...</td>\n",
       "      <td>G228A</td>\n",
       "      <td>0.393</td>\n",
       "      <td>0.393</td>\n",
       "      <td>0.393</td>\n",
       "    </tr>\n",
       "    <tr>\n",
       "      <th>1</th>\n",
       "      <td>MDIGIDSDPQKTNAVPRPKLVVGLVVDQMRWDYLYRYYSKYGEGGF...</td>\n",
       "      <td>G491A</td>\n",
       "      <td>0.393</td>\n",
       "      <td>0.393</td>\n",
       "      <td>0.393</td>\n",
       "    </tr>\n",
       "    <tr>\n",
       "      <th>2</th>\n",
       "      <td>MDIGIDSDPQKTNAVPRPKLVVGLVVDQMRWDYLYRYYSKYGEGGF...</td>\n",
       "      <td>M387V</td>\n",
       "      <td>0.393</td>\n",
       "      <td>0.393</td>\n",
       "      <td>0.393</td>\n",
       "    </tr>\n",
       "    <tr>\n",
       "      <th>3</th>\n",
       "      <td>MDIGIDSDPQKGLVVDQMRWDYLYRYYSKYGEGGFKRMLNTGYSLN...</td>\n",
       "      <td>T12G</td>\n",
       "      <td>0.393</td>\n",
       "      <td>0.393</td>\n",
       "      <td>0.393</td>\n",
       "    </tr>\n",
       "    <tr>\n",
       "      <th>4</th>\n",
       "      <td>MDIGIDSDPQKTNAVPRPKLVVGLVVDQMRWDYLYRYYSKYGEGGF...</td>\n",
       "      <td>E430V</td>\n",
       "      <td>0.393</td>\n",
       "      <td>0.393</td>\n",
       "      <td>0.393</td>\n",
       "    </tr>\n",
       "  </tbody>\n",
       "</table>\n",
       "</div>"
      ],
      "text/plain": [
       "                                    mutated_sequence mutant   \n",
       "0  MDIGIDSDPQKTNAVPRPKLVVGLVVDQMRWDYLYRYYSKYGEGGF...  G228A  \\\n",
       "1  MDIGIDSDPQKTNAVPRPKLVVGLVVDQMRWDYLYRYYSKYGEGGF...  G491A   \n",
       "2  MDIGIDSDPQKTNAVPRPKLVVGLVVDQMRWDYLYRYYSKYGEGGF...  M387V   \n",
       "3  MDIGIDSDPQKGLVVDQMRWDYLYRYYSKYGEGGFKRMLNTGYSLN...   T12G   \n",
       "4  MDIGIDSDPQKTNAVPRPKLVVGLVVDQMRWDYLYRYYSKYGEGGF...  E430V   \n",
       "\n",
       "   Carboxy 4-methylumbelliferyl phosphate ester (cMUP)   \n",
       "0                                              0.393    \\\n",
       "1                                              0.393     \n",
       "2                                              0.393     \n",
       "3                                              0.393     \n",
       "4                                              0.393     \n",
       "\n",
       "   methyl phosphate (MeP)  methyl phosphodiester (MecMUP)  \n",
       "0                   0.393                           0.393  \n",
       "1                   0.393                           0.393  \n",
       "2                   0.393                           0.393  \n",
       "3                   0.393                           0.393  \n",
       "4                   0.393                           0.393  "
      ]
     },
     "execution_count": 9,
     "metadata": {},
     "output_type": "execute_result"
    }
   ],
   "source": [
    "test_data.head()"
   ]
  },
  {
   "cell_type": "code",
   "execution_count": 11,
   "metadata": {},
   "outputs": [
    {
     "data": {
      "text/html": [
       "<div>\n",
       "<style scoped>\n",
       "    .dataframe tbody tr th:only-of-type {\n",
       "        vertical-align: middle;\n",
       "    }\n",
       "\n",
       "    .dataframe tbody tr th {\n",
       "        vertical-align: top;\n",
       "    }\n",
       "\n",
       "    .dataframe thead th {\n",
       "        text-align: right;\n",
       "    }\n",
       "</style>\n",
       "<table border=\"1\" class=\"dataframe\">\n",
       "  <thead>\n",
       "    <tr style=\"text-align: right;\">\n",
       "      <th></th>\n",
       "      <th>mutated_sequence</th>\n",
       "      <th>Carboxy 4-methylumbelliferyl phosphate ester (cMUP)</th>\n",
       "      <th>methyl phosphate (MeP)</th>\n",
       "      <th>methyl phosphodiester (MecMUP)</th>\n",
       "    </tr>\n",
       "  </thead>\n",
       "  <tbody>\n",
       "    <tr>\n",
       "      <th>0</th>\n",
       "      <td>MDIGIDSDPQKTNAVPRPKLVVGLVVDQMRWDYLYRYYSKYGEGGF...</td>\n",
       "      <td>1400000</td>\n",
       "      <td>610000</td>\n",
       "      <td>16.00</td>\n",
       "    </tr>\n",
       "    <tr>\n",
       "      <th>1</th>\n",
       "      <td>MDIGIDSDPQKTNAVPRPKLVVGLVVDQMRWDYLYRYYSKYGEGGF...</td>\n",
       "      <td>820000</td>\n",
       "      <td>380000</td>\n",
       "      <td>24.00</td>\n",
       "    </tr>\n",
       "    <tr>\n",
       "      <th>2</th>\n",
       "      <td>MDIGIDSDPQKTNAVPRPKLVVGLVVDQMRWDYLYRYYSKYGEGGF...</td>\n",
       "      <td>1100000</td>\n",
       "      <td>210000</td>\n",
       "      <td>8.70</td>\n",
       "    </tr>\n",
       "    <tr>\n",
       "      <th>3</th>\n",
       "      <td>MDIGIDSDPQKTNAVPRPKLVVGLVVDQMRWDYLYRYYSKYGEGGF...</td>\n",
       "      <td>22000</td>\n",
       "      <td>4100</td>\n",
       "      <td>1.30</td>\n",
       "    </tr>\n",
       "    <tr>\n",
       "      <th>4</th>\n",
       "      <td>MDIGIDSDPQKTNAVPRPKLVVGLVVDQMRWDYLYRYYSKYGEGGF...</td>\n",
       "      <td>1100000</td>\n",
       "      <td>180000</td>\n",
       "      <td>12.00</td>\n",
       "    </tr>\n",
       "    <tr>\n",
       "      <th>...</th>\n",
       "      <td>...</td>\n",
       "      <td>...</td>\n",
       "      <td>...</td>\n",
       "      <td>...</td>\n",
       "    </tr>\n",
       "    <tr>\n",
       "      <th>932</th>\n",
       "      <td>MDIGIDSDPQKTNAVPRPKLVVGLVVDQMRWDYLYRYYSKYGEGGF...</td>\n",
       "      <td>710000</td>\n",
       "      <td>82000</td>\n",
       "      <td>6.30</td>\n",
       "    </tr>\n",
       "    <tr>\n",
       "      <th>933</th>\n",
       "      <td>MDIGIDSDPQKTNAVPRPKLVVGLVVDQMRWDYLYRYYSKYGEGGF...</td>\n",
       "      <td>310000</td>\n",
       "      <td>140000</td>\n",
       "      <td>6.00</td>\n",
       "    </tr>\n",
       "    <tr>\n",
       "      <th>934</th>\n",
       "      <td>MDIGIDSDPQKTNAVPRPKLVVGLVVDQMRWDYLYRYYSKYGEGGF...</td>\n",
       "      <td>1700000</td>\n",
       "      <td>500000</td>\n",
       "      <td>18.00</td>\n",
       "    </tr>\n",
       "    <tr>\n",
       "      <th>935</th>\n",
       "      <td>MDIGIDSDPQKTNAVPRPKLVVGLVVDQMRWDYLYRYYSKYGEGGF...</td>\n",
       "      <td>200000</td>\n",
       "      <td>15000</td>\n",
       "      <td>0.85</td>\n",
       "    </tr>\n",
       "    <tr>\n",
       "      <th>936</th>\n",
       "      <td>MDIGIDSDPQKTNAVPRPKLVVGLVVDQMRWDYLYRYYSKYGEGGF...</td>\n",
       "      <td>2100000</td>\n",
       "      <td>410000</td>\n",
       "      <td>14.00</td>\n",
       "    </tr>\n",
       "  </tbody>\n",
       "</table>\n",
       "<p>937 rows × 4 columns</p>\n",
       "</div>"
      ],
      "text/plain": [
       "                                      mutated_sequence   \n",
       "0    MDIGIDSDPQKTNAVPRPKLVVGLVVDQMRWDYLYRYYSKYGEGGF...  \\\n",
       "1    MDIGIDSDPQKTNAVPRPKLVVGLVVDQMRWDYLYRYYSKYGEGGF...   \n",
       "2    MDIGIDSDPQKTNAVPRPKLVVGLVVDQMRWDYLYRYYSKYGEGGF...   \n",
       "3    MDIGIDSDPQKTNAVPRPKLVVGLVVDQMRWDYLYRYYSKYGEGGF...   \n",
       "4    MDIGIDSDPQKTNAVPRPKLVVGLVVDQMRWDYLYRYYSKYGEGGF...   \n",
       "..                                                 ...   \n",
       "932  MDIGIDSDPQKTNAVPRPKLVVGLVVDQMRWDYLYRYYSKYGEGGF...   \n",
       "933  MDIGIDSDPQKTNAVPRPKLVVGLVVDQMRWDYLYRYYSKYGEGGF...   \n",
       "934  MDIGIDSDPQKTNAVPRPKLVVGLVVDQMRWDYLYRYYSKYGEGGF...   \n",
       "935  MDIGIDSDPQKTNAVPRPKLVVGLVVDQMRWDYLYRYYSKYGEGGF...   \n",
       "936  MDIGIDSDPQKTNAVPRPKLVVGLVVDQMRWDYLYRYYSKYGEGGF...   \n",
       "\n",
       "     Carboxy 4-methylumbelliferyl phosphate ester (cMUP)   \n",
       "0                                              1400000    \\\n",
       "1                                               820000     \n",
       "2                                              1100000     \n",
       "3                                                22000     \n",
       "4                                              1100000     \n",
       "..                                                 ...     \n",
       "932                                             710000     \n",
       "933                                             310000     \n",
       "934                                            1700000     \n",
       "935                                             200000     \n",
       "936                                            2100000     \n",
       "\n",
       "     methyl phosphate (MeP)  methyl phosphodiester (MecMUP)  \n",
       "0                    610000                           16.00  \n",
       "1                    380000                           24.00  \n",
       "2                    210000                            8.70  \n",
       "3                      4100                            1.30  \n",
       "4                    180000                           12.00  \n",
       "..                      ...                             ...  \n",
       "932                   82000                            6.30  \n",
       "933                  140000                            6.00  \n",
       "934                  500000                           18.00  \n",
       "935                   15000                            0.85  \n",
       "936                  410000                           14.00  \n",
       "\n",
       "[937 rows x 4 columns]"
      ]
     },
     "execution_count": 11,
     "metadata": {},
     "output_type": "execute_result"
    }
   ],
   "source": [
    "train_data.drop('mutant', axis=1)"
   ]
  },
  {
   "cell_type": "code",
   "execution_count": 12,
   "metadata": {},
   "outputs": [
    {
     "name": "stdout",
     "output_type": "stream",
     "text": [
      "\u001b[33mWARNING: Ignoring invalid distribution -andas (/Users/ndjebayidamarisstephanie/miniconda3/lib/python3.10/site-packages)\u001b[0m\u001b[33m\n",
      "\u001b[0m\u001b[33mWARNING: Ignoring invalid distribution -andas (/Users/ndjebayidamarisstephanie/miniconda3/lib/python3.10/site-packages)\u001b[0m\u001b[33m\n",
      "\u001b[0m\u001b[33mWARNING: Skipping typing as it is not installed.\u001b[0m\u001b[33m\n",
      "\u001b[0m\u001b[33mWARNING: Ignoring invalid distribution -andas (/Users/ndjebayidamarisstephanie/miniconda3/lib/python3.10/site-packages)\u001b[0m\u001b[33m\n",
      "\u001b[0m\u001b[33mWARNING: Ignoring invalid distribution -andas (/Users/ndjebayidamarisstephanie/miniconda3/lib/python3.10/site-packages)\u001b[0m\u001b[33m\n",
      "\u001b[0mCollecting git+https://github.com/facebookresearch/esm.git\n",
      "  Cloning https://github.com/facebookresearch/esm.git to /private/var/folders/d5/2z9bj_2d0q95fq36j6hbvhlm0000gn/T/pip-req-build-nrh76ws2\n",
      "  Running command git clone --filter=blob:none --quiet https://github.com/facebookresearch/esm.git /private/var/folders/d5/2z9bj_2d0q95fq36j6hbvhlm0000gn/T/pip-req-build-nrh76ws2\n",
      "  Resolved https://github.com/facebookresearch/esm.git to commit c9c7d4f0fec964ce10c3e11dccec6c16edaa5144\n",
      "  Installing build dependencies ... \u001b[?25ldone\n",
      "\u001b[?25h  Getting requirements to build wheel ... \u001b[?25ldone\n",
      "\u001b[?25h  Preparing metadata (pyproject.toml) ... \u001b[?25ldone\n",
      "\u001b[?25hBuilding wheels for collected packages: fair-esm\n",
      "  Building wheel for fair-esm (pyproject.toml) ... \u001b[?25ldone\n",
      "\u001b[?25h  Created wheel for fair-esm: filename=fair_esm-2.0.1-py3-none-any.whl size=105311 sha256=25b095258ade071a9caef445bdfc22a6758930d9e0e48350e27eec4b345bb72f\n",
      "  Stored in directory: /private/var/folders/d5/2z9bj_2d0q95fq36j6hbvhlm0000gn/T/pip-ephem-wheel-cache-0e54kmzm/wheels/f3/b2/ec/4db0b108f6367c7563f99b2445e1137d486003fb2f9bfd2f53\n",
      "Successfully built fair-esm\n",
      "\u001b[33mWARNING: Ignoring invalid distribution -andas (/Users/ndjebayidamarisstephanie/miniconda3/lib/python3.10/site-packages)\u001b[0m\u001b[33m\n",
      "\u001b[0mInstalling collected packages: fair-esm\n",
      "\u001b[33mWARNING: Ignoring invalid distribution -andas (/Users/ndjebayidamarisstephanie/miniconda3/lib/python3.10/site-packages)\u001b[0m\u001b[33m\n",
      "\u001b[0mSuccessfully installed fair-esm-2.0.1\n",
      "\u001b[33mWARNING: Ignoring invalid distribution -andas (/Users/ndjebayidamarisstephanie/miniconda3/lib/python3.10/site-packages)\u001b[0m\u001b[33m\n",
      "\u001b[0m\u001b[33mWARNING: Ignoring invalid distribution -andas (/Users/ndjebayidamarisstephanie/miniconda3/lib/python3.10/site-packages)\u001b[0m\u001b[33m\n",
      "\u001b[0m\u001b[33mWARNING: Ignoring invalid distribution -andas (/Users/ndjebayidamarisstephanie/miniconda3/lib/python3.10/site-packages)\u001b[0m\u001b[33m\n",
      "\u001b[0m\u001b[33mWARNING: Ignoring invalid distribution -andas (/Users/ndjebayidamarisstephanie/miniconda3/lib/python3.10/site-packages)\u001b[0m\u001b[33m\n",
      "\u001b[0m\u001b[33mWARNING: Ignoring invalid distribution -andas (/Users/ndjebayidamarisstephanie/miniconda3/lib/python3.10/site-packages)\u001b[0m\u001b[33m\n",
      "\u001b[0mCollecting trimap\n",
      "  Downloading trimap-1.1.4-py3-none-any.whl (15 kB)\n",
      "Requirement already satisfied: scikit-learn>=0.16 in /Users/ndjebayidamarisstephanie/miniconda3/lib/python3.10/site-packages (from trimap) (1.2.2)\n",
      "Collecting numba>=0.34\n",
      "  Downloading numba-0.57.0-cp310-cp310-macosx_11_0_arm64.whl (2.5 MB)\n",
      "\u001b[2K     \u001b[90m━━━━━━━━━━━━━━━━━━━━━━━━━━━━━━━━━━━━━━━━\u001b[0m \u001b[32m2.5/2.5 MB\u001b[0m \u001b[31m205.5 kB/s\u001b[0m eta \u001b[36m0:00:00\u001b[0m00:01\u001b[0m00:02\u001b[0m\n",
      "\u001b[?25hCollecting annoy>=1.11\n",
      "  Downloading annoy-1.17.2-cp310-cp310-macosx_11_0_arm64.whl (57 kB)\n",
      "\u001b[2K     \u001b[90m━━━━━━━━━━━━━━━━━━━━━━━━━━━━━━━━━━━━━━━━\u001b[0m \u001b[32m57.7/57.7 kB\u001b[0m \u001b[31m83.7 kB/s\u001b[0m eta \u001b[36m0:00:00\u001b[0ma \u001b[36m0:00:01\u001b[0m\n",
      "\u001b[?25hCollecting llvmlite<0.41,>=0.40.0dev0\n",
      "  Downloading llvmlite-0.40.0-cp310-cp310-macosx_11_0_arm64.whl (28.1 MB)\n",
      "\u001b[2K     \u001b[90m━━━━━━━━━━━━━━━━━━━━━━━━━━━━━━━━━━━━━━━\u001b[0m \u001b[32m28.1/28.1 MB\u001b[0m \u001b[31m638.6 kB/s\u001b[0m eta \u001b[36m0:00:00\u001b[0m00:01\u001b[0m00:02\u001b[0m\n",
      "\u001b[?25hRequirement already satisfied: numpy<1.25,>=1.21 in /Users/ndjebayidamarisstephanie/miniconda3/lib/python3.10/site-packages (from numba>=0.34->trimap) (1.24.3)\n",
      "Requirement already satisfied: threadpoolctl>=2.0.0 in /Users/ndjebayidamarisstephanie/miniconda3/lib/python3.10/site-packages (from scikit-learn>=0.16->trimap) (3.1.0)\n",
      "Requirement already satisfied: joblib>=1.1.1 in /Users/ndjebayidamarisstephanie/miniconda3/lib/python3.10/site-packages (from scikit-learn>=0.16->trimap) (1.2.0)\n",
      "Requirement already satisfied: scipy>=1.3.2 in /Users/ndjebayidamarisstephanie/miniconda3/lib/python3.10/site-packages (from scikit-learn>=0.16->trimap) (1.10.1)\n",
      "\u001b[33mWARNING: Ignoring invalid distribution -andas (/Users/ndjebayidamarisstephanie/miniconda3/lib/python3.10/site-packages)\u001b[0m\u001b[33m\n",
      "\u001b[0mInstalling collected packages: annoy, llvmlite, numba, trimap\n",
      "\u001b[33mWARNING: Ignoring invalid distribution -andas (/Users/ndjebayidamarisstephanie/miniconda3/lib/python3.10/site-packages)\u001b[0m\u001b[33m\n",
      "\u001b[0m\u001b[33mWARNING: Ignoring invalid distribution -andas (/Users/ndjebayidamarisstephanie/miniconda3/lib/python3.10/site-packages)\u001b[0m\u001b[33m\n",
      "\u001b[0m\u001b[33mWARNING: Ignoring invalid distribution -andas (/Users/ndjebayidamarisstephanie/miniconda3/lib/python3.10/site-packages)\u001b[0m\u001b[33m\n",
      "\u001b[0m\u001b[33mWARNING: Ignoring invalid distribution -andas (/Users/ndjebayidamarisstephanie/miniconda3/lib/python3.10/site-packages)\u001b[0m\u001b[33m\n",
      "\u001b[0mSuccessfully installed annoy-1.17.2 llvmlite-0.40.0 numba-0.57.0 trimap-1.1.4\n",
      "\u001b[33mWARNING: Ignoring invalid distribution -andas (/Users/ndjebayidamarisstephanie/miniconda3/lib/python3.10/site-packages)\u001b[0m\u001b[33m\n",
      "\u001b[0m\u001b[33mWARNING: Ignoring invalid distribution -andas (/Users/ndjebayidamarisstephanie/miniconda3/lib/python3.10/site-packages)\u001b[0m\u001b[33m\n",
      "\u001b[0m\u001b[33mWARNING: Ignoring invalid distribution -andas (/Users/ndjebayidamarisstephanie/miniconda3/lib/python3.10/site-packages)\u001b[0m\u001b[33m\n",
      "\u001b[0m\u001b[33mWARNING: Ignoring invalid distribution -andas (/Users/ndjebayidamarisstephanie/miniconda3/lib/python3.10/site-packages)\u001b[0m\u001b[33m\n",
      "\u001b[0m\u001b[33mWARNING: Ignoring invalid distribution -andas (/Users/ndjebayidamarisstephanie/miniconda3/lib/python3.10/site-packages)\u001b[0m\u001b[33m\n",
      "\u001b[0mCollecting heatmapz\n",
      "  Downloading heatmapz-0.0.4-py3-none-any.whl (5.8 kB)\n",
      "Collecting seaborn\n",
      "  Using cached seaborn-0.12.2-py3-none-any.whl (293 kB)\n",
      "Requirement already satisfied: pandas in /Users/ndjebayidamarisstephanie/miniconda3/lib/python3.10/site-packages (from heatmapz) (2.0.1)\n",
      "Requirement already satisfied: matplotlib>=3.0.3 in /Users/ndjebayidamarisstephanie/miniconda3/lib/python3.10/site-packages (from heatmapz) (3.7.1)\n",
      "Requirement already satisfied: numpy>=1.20 in /Users/ndjebayidamarisstephanie/miniconda3/lib/python3.10/site-packages (from matplotlib>=3.0.3->heatmapz) (1.24.3)\n",
      "Requirement already satisfied: kiwisolver>=1.0.1 in /Users/ndjebayidamarisstephanie/miniconda3/lib/python3.10/site-packages (from matplotlib>=3.0.3->heatmapz) (1.4.4)\n",
      "Requirement already satisfied: packaging>=20.0 in /Users/ndjebayidamarisstephanie/miniconda3/lib/python3.10/site-packages (from matplotlib>=3.0.3->heatmapz) (23.0)\n",
      "Requirement already satisfied: contourpy>=1.0.1 in /Users/ndjebayidamarisstephanie/miniconda3/lib/python3.10/site-packages (from matplotlib>=3.0.3->heatmapz) (1.0.7)\n",
      "Requirement already satisfied: fonttools>=4.22.0 in /Users/ndjebayidamarisstephanie/miniconda3/lib/python3.10/site-packages (from matplotlib>=3.0.3->heatmapz) (4.39.4)\n",
      "Requirement already satisfied: python-dateutil>=2.7 in /Users/ndjebayidamarisstephanie/miniconda3/lib/python3.10/site-packages (from matplotlib>=3.0.3->heatmapz) (2.8.2)\n",
      "Requirement already satisfied: pyparsing>=2.3.1 in /Users/ndjebayidamarisstephanie/miniconda3/lib/python3.10/site-packages (from matplotlib>=3.0.3->heatmapz) (3.0.9)\n",
      "Requirement already satisfied: pillow>=6.2.0 in /Users/ndjebayidamarisstephanie/miniconda3/lib/python3.10/site-packages (from matplotlib>=3.0.3->heatmapz) (9.5.0)\n",
      "Requirement already satisfied: cycler>=0.10 in /Users/ndjebayidamarisstephanie/miniconda3/lib/python3.10/site-packages (from matplotlib>=3.0.3->heatmapz) (0.11.0)\n",
      "Requirement already satisfied: tzdata>=2022.1 in /Users/ndjebayidamarisstephanie/miniconda3/lib/python3.10/site-packages (from pandas->heatmapz) (2023.3)\n",
      "Requirement already satisfied: pytz>=2020.1 in /Users/ndjebayidamarisstephanie/miniconda3/lib/python3.10/site-packages (from pandas->heatmapz) (2023.3)\n",
      "Requirement already satisfied: six>=1.5 in /Users/ndjebayidamarisstephanie/miniconda3/lib/python3.10/site-packages (from python-dateutil>=2.7->matplotlib>=3.0.3->heatmapz) (1.12.0)\n"
     ]
    },
    {
     "name": "stdout",
     "output_type": "stream",
     "text": [
      "\u001b[33mWARNING: Ignoring invalid distribution -andas (/Users/ndjebayidamarisstephanie/miniconda3/lib/python3.10/site-packages)\u001b[0m\u001b[33m\n",
      "\u001b[0mInstalling collected packages: seaborn, heatmapz\n",
      "\u001b[33mWARNING: Ignoring invalid distribution -andas (/Users/ndjebayidamarisstephanie/miniconda3/lib/python3.10/site-packages)\u001b[0m\u001b[33m\n",
      "\u001b[0m\u001b[33mWARNING: Ignoring invalid distribution -andas (/Users/ndjebayidamarisstephanie/miniconda3/lib/python3.10/site-packages)\u001b[0m\u001b[33m\n",
      "\u001b[0mSuccessfully installed heatmapz-0.0.4 seaborn-0.12.2\n",
      "\u001b[33mWARNING: Ignoring invalid distribution -andas (/Users/ndjebayidamarisstephanie/miniconda3/lib/python3.10/site-packages)\u001b[0m\u001b[33m\n",
      "\u001b[0m\u001b[33mWARNING: Ignoring invalid distribution -andas (/Users/ndjebayidamarisstephanie/miniconda3/lib/python3.10/site-packages)\u001b[0m\u001b[33m\n",
      "\u001b[0m\u001b[33mWARNING: Ignoring invalid distribution -andas (/Users/ndjebayidamarisstephanie/miniconda3/lib/python3.10/site-packages)\u001b[0m\u001b[33m\n",
      "\u001b[0m"
     ]
    }
   ],
   "source": [
    "# with typing installed, the pip install of esm was breaking\n",
    "!pip uninstall -y typing\n",
    "!pip install git+https://github.com/facebookresearch/esm.git\n",
    "!pip install trimap\n",
    "!pip install heatmapz"
   ]
  },
  {
   "cell_type": "code",
   "execution_count": 1,
   "metadata": {},
   "outputs": [
    {
     "name": "stdout",
     "output_type": "stream",
     "text": [
      "\u001b[33mWARNING: Ignoring invalid distribution -andas (/Users/ndjebayidamarisstephanie/miniconda3/lib/python3.10/site-packages)\u001b[0m\u001b[33m\n",
      "\u001b[0m\u001b[33mWARNING: Ignoring invalid distribution -andas (/Users/ndjebayidamarisstephanie/miniconda3/lib/python3.10/site-packages)\u001b[0m\u001b[33m\n",
      "\u001b[0mRequirement already satisfied: fair-esm in /Users/ndjebayidamarisstephanie/miniconda3/lib/python3.10/site-packages (2.0.1)\n",
      "\u001b[33mWARNING: Ignoring invalid distribution -andas (/Users/ndjebayidamarisstephanie/miniconda3/lib/python3.10/site-packages)\u001b[0m\u001b[33m\n",
      "\u001b[0m\u001b[33mWARNING: Ignoring invalid distribution -andas (/Users/ndjebayidamarisstephanie/miniconda3/lib/python3.10/site-packages)\u001b[0m\u001b[33m\n",
      "\u001b[0m\u001b[33mWARNING: Ignoring invalid distribution -andas (/Users/ndjebayidamarisstephanie/miniconda3/lib/python3.10/site-packages)\u001b[0m\u001b[33m\n",
      "\u001b[0m\u001b[33mWARNING: Ignoring invalid distribution -andas (/Users/ndjebayidamarisstephanie/miniconda3/lib/python3.10/site-packages)\u001b[0m\u001b[33m\n",
      "\u001b[0m\u001b[33mWARNING: Ignoring invalid distribution -andas (/Users/ndjebayidamarisstephanie/miniconda3/lib/python3.10/site-packages)\u001b[0m\u001b[33m\n",
      "\u001b[0m\u001b[33mWARNING: Ignoring invalid distribution -andas (/Users/ndjebayidamarisstephanie/miniconda3/lib/python3.10/site-packages)\u001b[0m\u001b[33m\n",
      "\u001b[0mCollecting git+https://github.com/facebookresearch/esm.git\n",
      "  Cloning https://github.com/facebookresearch/esm.git to /private/var/folders/d5/2z9bj_2d0q95fq36j6hbvhlm0000gn/T/pip-req-build-fdmrd4cq\n",
      "  Running command git clone --filter=blob:none --quiet https://github.com/facebookresearch/esm.git /private/var/folders/d5/2z9bj_2d0q95fq36j6hbvhlm0000gn/T/pip-req-build-fdmrd4cq\n",
      "  Resolved https://github.com/facebookresearch/esm.git to commit c9c7d4f0fec964ce10c3e11dccec6c16edaa5144\n",
      "  Installing build dependencies ... \u001b[?25ldone\n",
      "\u001b[?25h  Getting requirements to build wheel ... \u001b[?25ldone\n",
      "\u001b[?25h  Preparing metadata (pyproject.toml) ... \u001b[?25ldone\n",
      "\u001b[33mWARNING: Ignoring invalid distribution -andas (/Users/ndjebayidamarisstephanie/miniconda3/lib/python3.10/site-packages)\u001b[0m\u001b[33m\n",
      "\u001b[0m\u001b[33mWARNING: Ignoring invalid distribution -andas (/Users/ndjebayidamarisstephanie/miniconda3/lib/python3.10/site-packages)\u001b[0m\u001b[33m\n",
      "\u001b[0m\u001b[33mWARNING: Ignoring invalid distribution -andas (/Users/ndjebayidamarisstephanie/miniconda3/lib/python3.10/site-packages)\u001b[0m\u001b[33m\n",
      "\u001b[0m\u001b[33mWARNING: Ignoring invalid distribution -andas (/Users/ndjebayidamarisstephanie/miniconda3/lib/python3.10/site-packages)\u001b[0m\u001b[33m\n",
      "\u001b[0m\u001b[?25h"
     ]
    }
   ],
   "source": [
    "! pip install fair-esm  # latest release, OR:\n",
    "! pip install git+https://github.com/facebookresearch/esm.git  # bleeding edge, current repo main branch"
   ]
  },
  {
   "cell_type": "code",
   "execution_count": null,
   "metadata": {},
   "outputs": [],
   "source": [
    "model, alphabet = esm.pretrained.esm1b_t33_650M_UR50S()\n",
    "batch_converter = alphabet.get_batch_converter()\n",
    "if torch.cuda.is_available():\n",
    "    model = model.cuda()"
   ]
  },
  {
   "cell_type": "code",
   "execution_count": null,
   "metadata": {},
   "outputs": [],
   "source": []
  },
  {
   "cell_type": "code",
   "execution_count": null,
   "metadata": {},
   "outputs": [],
   "source": [
    "import torch\n",
    "from torch import nn\n",
    "import esm\n",
    "\n",
    "# Load the ESM-1b model\n",
    "model, alphabet = esm.pretrained.esm1b_t33_650M_UR50S()\n",
    "\n",
    "# Define the maximum sequence length\n",
    "max_sequence_length = 1000\n",
    "\n",
    "# Function to encode a protein sequence using ESM-1b\n",
    "def encode_sequence(sequence):\n",
    "    # Tokenize the sequence\n",
    "    batch_converter = alphabet.get_batch_converter()\n",
    "    inputs = batch_converter([sequence])\n",
    "\n",
    "    # Get the tokenized sequence\n",
    "    tokens = inputs[\"input_ids\"]\n",
    "\n",
    "    # Pad or truncate the sequence to the maximum length\n",
    "    if len(tokens[0]) < max_sequence_length:\n",
    "        tokens = tokens + [0] * (max_sequence_length - len(tokens[0]))\n",
    "    else:\n",
    "        tokens = tokens[0][:max_sequence_length]\n",
    "\n",
    "    # Convert the tokens to a PyTorch tensor\n",
    "    tokens = torch.tensor(tokens).unsqueeze(0)\n",
    "\n",
    "    # Forward pass through the model to get the embeddings\n",
    "    with torch.no_grad():\n",
    "        embeddings = model.embed(tokens)\n",
    "\n",
    "    # Return the embeddings\n",
    "    return embeddings.squeeze().numpy()\n",
    "\n",
    "# Example protein sequences\n",
    "sequences = ['SEQUENCE1', 'SEQUENCE2', 'SEQUENCE3']\n",
    "\n",
    "# Encode the protein sequences using ESM-1b\n",
    "encoded_sequences = [encode_sequence(seq) for seq in sequences]\n",
    "\n",
    "# Print the encoded sequences\n",
    "print(\"Encoded Sequences:\")\n",
    "print(encoded_sequences)\n"
   ]
  },
  {
   "cell_type": "markdown",
   "metadata": {
    "papermill": {
     "duration": 0.005813,
     "end_time": "2020-12-25T08:36:21.345058",
     "exception": false,
     "start_time": "2020-12-25T08:36:21.339245",
     "status": "completed"
    },
    "tags": []
   },
   "source": [
    "## Exploratory Analysis\n",
    "To begin this exploratory analysis, first import libraries and define functions for plotting the data using `matplotlib`. Depending on the data, not all plots will be made. (Hey, I'm just a simple kerneling bot, not a Kaggle Competitions Grandmaster!)"
   ]
  },
  {
   "cell_type": "code",
   "execution_count": 1,
   "metadata": {
    "_kg_hide-input": false,
    "execution": {
     "iopub.execute_input": "2020-12-25T08:36:21.363062Z",
     "iopub.status.busy": "2020-12-25T08:36:21.362487Z",
     "iopub.status.idle": "2020-12-25T08:36:22.222802Z",
     "shell.execute_reply": "2020-12-25T08:36:22.221816Z"
    },
    "papermill": {
     "duration": 0.871586,
     "end_time": "2020-12-25T08:36:22.222951",
     "exception": false,
     "start_time": "2020-12-25T08:36:21.351365",
     "status": "completed"
    },
    "tags": []
   },
   "outputs": [],
   "source": [
    "from mpl_toolkits.mplot3d import Axes3D\n",
    "from sklearn.preprocessing import StandardScaler\n",
    "import matplotlib.pyplot as plt # plotting\n",
    "import numpy as np # linear algebra\n",
    "import os # accessing directory structure\n",
    "import pandas as pd # data processing, CSV file I/O (e.g. pd.read_csv)\n"
   ]
  },
  {
   "cell_type": "markdown",
   "metadata": {
    "papermill": {
     "duration": 0.006142,
     "end_time": "2020-12-25T08:36:22.235925",
     "exception": false,
     "start_time": "2020-12-25T08:36:22.229783",
     "status": "completed"
    },
    "tags": []
   },
   "source": [
    "There is 0 csv file in the current version of the dataset:\n"
   ]
  },
  {
   "cell_type": "code",
   "execution_count": 2,
   "metadata": {
    "_kg_hide-input": false,
    "execution": {
     "iopub.execute_input": "2020-12-25T08:36:22.253305Z",
     "iopub.status.busy": "2020-12-25T08:36:22.252658Z",
     "iopub.status.idle": "2020-12-25T08:36:22.267050Z",
     "shell.execute_reply": "2020-12-25T08:36:22.266455Z"
    },
    "papermill": {
     "duration": 0.024888,
     "end_time": "2020-12-25T08:36:22.267174",
     "exception": false,
     "start_time": "2020-12-25T08:36:22.242286",
     "status": "completed"
    },
    "tags": []
   },
   "outputs": [
    {
     "name": "stdout",
     "output_type": "stream",
     "text": [
      "/kaggle/input/Supplementary_Table_S4.xlsx\n",
      "/kaggle/input/Supplementary_Table_S2.xlsx\n",
      "/kaggle/input/Supplementary_Material_S1.fasta\n",
      "/kaggle/input/Supplementary_Material_S2.fasta\n"
     ]
    }
   ],
   "source": [
    "for dirname, _, filenames in os.walk('/kaggle/input'):\n",
    "    for filename in filenames:\n",
    "        print(os.path.join(dirname, filename))\n"
   ]
  },
  {
   "cell_type": "markdown",
   "metadata": {
    "papermill": {
     "duration": 0.006673,
     "end_time": "2020-12-25T08:36:22.280639",
     "exception": false,
     "start_time": "2020-12-25T08:36:22.273966",
     "status": "completed"
    },
    "tags": []
   },
   "source": [
    "The next hidden code cells define functions for plotting data. Click on the \"Code\" button in the published kernel to reveal the hidden code."
   ]
  },
  {
   "cell_type": "code",
   "execution_count": 3,
   "metadata": {
    "_kg_hide-input": true,
    "collapsed": true,
    "execution": {
     "iopub.execute_input": "2020-12-25T08:36:22.305605Z",
     "iopub.status.busy": "2020-12-25T08:36:22.304948Z",
     "iopub.status.idle": "2020-12-25T08:36:22.307360Z",
     "shell.execute_reply": "2020-12-25T08:36:22.307798Z"
    },
    "papermill": {
     "duration": 0.020292,
     "end_time": "2020-12-25T08:36:22.307907",
     "exception": false,
     "start_time": "2020-12-25T08:36:22.287615",
     "status": "completed"
    },
    "tags": []
   },
   "outputs": [],
   "source": [
    "# Distribution graphs (histogram/bar graph) of column data\n",
    "def plotPerColumnDistribution(df, nGraphShown, nGraphPerRow):\n",
    "    nunique = df.nunique()\n",
    "    df = df[[col for col in df if nunique[col] > 1 and nunique[col] < 50]] # For displaying purposes, pick columns that have between 1 and 50 unique values\n",
    "    nRow, nCol = df.shape\n",
    "    columnNames = list(df)\n",
    "    nGraphRow = (nCol + nGraphPerRow - 1) / nGraphPerRow\n",
    "    plt.figure(num = None, figsize = (6 * nGraphPerRow, 8 * nGraphRow), dpi = 80, facecolor = 'w', edgecolor = 'k')\n",
    "    for i in range(min(nCol, nGraphShown)):\n",
    "        plt.subplot(nGraphRow, nGraphPerRow, i + 1)\n",
    "        columnDf = df.iloc[:, i]\n",
    "        if (not np.issubdtype(type(columnDf.iloc[0]), np.number)):\n",
    "            valueCounts = columnDf.value_counts()\n",
    "            valueCounts.plot.bar()\n",
    "        else:\n",
    "            columnDf.hist()\n",
    "        plt.ylabel('counts')\n",
    "        plt.xticks(rotation = 90)\n",
    "        plt.title(f'{columnNames[i]} (column {i})')\n",
    "    plt.tight_layout(pad = 1.0, w_pad = 1.0, h_pad = 1.0)\n",
    "    plt.show()\n"
   ]
  },
  {
   "cell_type": "code",
   "execution_count": 4,
   "metadata": {
    "_kg_hide-input": true,
    "collapsed": true,
    "execution": {
     "iopub.execute_input": "2020-12-25T08:36:22.333344Z",
     "iopub.status.busy": "2020-12-25T08:36:22.332658Z",
     "iopub.status.idle": "2020-12-25T08:36:22.335714Z",
     "shell.execute_reply": "2020-12-25T08:36:22.335069Z"
    },
    "papermill": {
     "duration": 0.02089,
     "end_time": "2020-12-25T08:36:22.335824",
     "exception": false,
     "start_time": "2020-12-25T08:36:22.314934",
     "status": "completed"
    },
    "tags": []
   },
   "outputs": [],
   "source": [
    "# Correlation matrix\n",
    "def plotCorrelationMatrix(df, graphWidth):\n",
    "    filename = df.dataframeName\n",
    "    df = df.dropna('columns') # drop columns with NaN\n",
    "    df = df[[col for col in df if df[col].nunique() > 1]] # keep columns where there are more than 1 unique values\n",
    "    if df.shape[1] < 2:\n",
    "        print(f'No correlation plots shown: The number of non-NaN or constant columns ({df.shape[1]}) is less than 2')\n",
    "        return\n",
    "    corr = df.corr()\n",
    "    plt.figure(num=None, figsize=(graphWidth, graphWidth), dpi=80, facecolor='w', edgecolor='k')\n",
    "    corrMat = plt.matshow(corr, fignum = 1)\n",
    "    plt.xticks(range(len(corr.columns)), corr.columns, rotation=90)\n",
    "    plt.yticks(range(len(corr.columns)), corr.columns)\n",
    "    plt.gca().xaxis.tick_bottom()\n",
    "    plt.colorbar(corrMat)\n",
    "    plt.title(f'Correlation Matrix for {filename}', fontsize=15)\n",
    "    plt.show()\n"
   ]
  },
  {
   "cell_type": "code",
   "execution_count": 5,
   "metadata": {
    "_kg_hide-input": true,
    "collapsed": true,
    "execution": {
     "iopub.execute_input": "2020-12-25T08:36:22.361341Z",
     "iopub.status.busy": "2020-12-25T08:36:22.360757Z",
     "iopub.status.idle": "2020-12-25T08:36:22.364714Z",
     "shell.execute_reply": "2020-12-25T08:36:22.364188Z"
    },
    "papermill": {
     "duration": 0.021693,
     "end_time": "2020-12-25T08:36:22.364810",
     "exception": false,
     "start_time": "2020-12-25T08:36:22.343117",
     "status": "completed"
    },
    "tags": []
   },
   "outputs": [],
   "source": [
    "# Scatter and density plots\n",
    "def plotScatterMatrix(df, plotSize, textSize):\n",
    "    df = df.select_dtypes(include =[np.number]) # keep only numerical columns\n",
    "    # Remove rows and columns that would lead to df being singular\n",
    "    df = df.dropna('columns')\n",
    "    df = df[[col for col in df if df[col].nunique() > 1]] # keep columns where there are more than 1 unique values\n",
    "    columnNames = list(df)\n",
    "    if len(columnNames) > 10: # reduce the number of columns for matrix inversion of kernel density plots\n",
    "        columnNames = columnNames[:10]\n",
    "    df = df[columnNames]\n",
    "    ax = pd.plotting.scatter_matrix(df, alpha=0.75, figsize=[plotSize, plotSize], diagonal='kde')\n",
    "    corrs = df.corr().values\n",
    "    for i, j in zip(*plt.np.triu_indices_from(ax, k = 1)):\n",
    "        ax[i, j].annotate('Corr. coef = %.3f' % corrs[i, j], (0.8, 0.2), xycoords='axes fraction', ha='center', va='center', size=textSize)\n",
    "    plt.suptitle('Scatter and Density Plot')\n",
    "    plt.show()\n"
   ]
  },
  {
   "cell_type": "markdown",
   "metadata": {
    "papermill": {
     "duration": 0.007124,
     "end_time": "2020-12-25T08:36:22.379476",
     "exception": false,
     "start_time": "2020-12-25T08:36:22.372352",
     "status": "completed"
    },
    "tags": []
   },
   "source": [
    "Oh, no! There are no automatic insights available for the file types used in this dataset. As your Kaggle kerneler bot, I'll keep working to fine-tune my hyper-parameters. In the meantime, please feel free to try a different dataset."
   ]
  },
  {
   "cell_type": "markdown",
   "metadata": {
    "papermill": {
     "duration": 0.006894,
     "end_time": "2020-12-25T08:36:22.393711",
     "exception": false,
     "start_time": "2020-12-25T08:36:22.386817",
     "status": "completed"
    },
    "tags": []
   },
   "source": [
    "## Conclusion\n",
    "This concludes your starter analysis! To go forward from here, click the blue \"Fork Notebook\" button at the top of this kernel. This will create a copy of the code and environment for you to edit. Delete, modify, and add code as you please. Happy Kaggling!"
   ]
  }
 ],
 "metadata": {
  "kernelspec": {
   "display_name": "Python 3 (ipykernel)",
   "language": "python",
   "name": "python3"
  },
  "language_info": {
   "codemirror_mode": {
    "name": "ipython",
    "version": 3
   },
   "file_extension": ".py",
   "mimetype": "text/x-python",
   "name": "python",
   "nbconvert_exporter": "python",
   "pygments_lexer": "ipython3",
   "version": "3.10.10"
  },
  "papermill": {
   "duration": 5.417028,
   "end_time": "2020-12-25T08:36:22.508608",
   "environment_variables": {},
   "exception": null,
   "input_path": "__notebook__.ipynb",
   "output_path": "__notebook__.ipynb",
   "parameters": {},
   "start_time": "2020-12-25T08:36:17.091580",
   "version": "2.1.0"
  }
 },
 "nbformat": 4,
 "nbformat_minor": 4
}
