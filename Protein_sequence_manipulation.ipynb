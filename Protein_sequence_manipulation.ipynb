{
  "cells": [
    {
      "cell_type": "code",
      "execution_count": 52,
      "metadata": {
        "id": "KbJYVIvkCspd"
      },
      "outputs": [],
      "source": [
        "# Import Libraries and Datasets\n",
        "import pandas as pd\n",
        "import numpy as np\n",
        "from matplotlib import pyplot as plt\n",
        "import seaborn as sns\n",
        "from sklearn.feature_extraction.text import CountVectorizer\n",
        "from sklearn.model_selection import train_test_split\n",
        "from sklearn.metrics import accuracy_score, confusion_matrix, classification_report"
      ]
    },
    {
      "cell_type": "code",
      "execution_count": 53,
      "metadata": {
        "colab": {
          "base_uri": "https://localhost:8080/"
        },
        "id": "g6a1XTXTCTfH",
        "outputId": "dd26b407-2320-442d-9f13-60e0496d610a"
      },
      "outputs": [
        {
          "name": "stdout",
          "output_type": "stream",
          "text": [
            "937 is the number of rows in the train dataset\n"
          ]
        }
      ],
      "source": [
        "train = pd.read_csv('data/train.csv')\n",
        "test = pd.read_csv('data/test.csv')\n",
        "#sub = pd.read_csv('/content/drive/MyDrive/SampleSubmission_enzyme.csv')\n",
        "print('%d is the number of rows in the train dataset' %train.shape[0])"
      ]
    },
    {
      "cell_type": "code",
      "execution_count": 54,
      "metadata": {
        "colab": {
          "base_uri": "https://localhost:8080/",
          "height": 268
        },
        "id": "W0-W_9b4CTcK",
        "outputId": "cccb792a-3955-4b78-b8d9-94f1155f1d77"
      },
      "outputs": [
        {
          "data": {
            "text/html": [
              "<div>\n",
              "<style scoped>\n",
              "    .dataframe tbody tr th:only-of-type {\n",
              "        vertical-align: middle;\n",
              "    }\n",
              "\n",
              "    .dataframe tbody tr th {\n",
              "        vertical-align: top;\n",
              "    }\n",
              "\n",
              "    .dataframe thead th {\n",
              "        text-align: right;\n",
              "    }\n",
              "</style>\n",
              "<table border=\"1\" class=\"dataframe\">\n",
              "  <thead>\n",
              "    <tr style=\"text-align: right;\">\n",
              "      <th></th>\n",
              "      <th>mutated_sequence</th>\n",
              "      <th>mutant</th>\n",
              "      <th>Carboxy 4-methylumbelliferyl phosphate ester (cMUP)</th>\n",
              "      <th>methyl phosphate (MeP)</th>\n",
              "      <th>methyl phosphodiester (MecMUP)</th>\n",
              "    </tr>\n",
              "  </thead>\n",
              "  <tbody>\n",
              "    <tr>\n",
              "      <th>0</th>\n",
              "      <td>MDIGIDSDPQKTNAVPRPKLVVGLVVDQMRWDYLYRYYSKYGEGGF...</td>\n",
              "      <td>WT</td>\n",
              "      <td>1400000</td>\n",
              "      <td>610000</td>\n",
              "      <td>16.0</td>\n",
              "    </tr>\n",
              "    <tr>\n",
              "      <th>1</th>\n",
              "      <td>MDIGIDSDPQKTNAVPRPKLVVGLVVDQMRWDYLYRYYSKYGEGGF...</td>\n",
              "      <td>S115G</td>\n",
              "      <td>820000</td>\n",
              "      <td>380000</td>\n",
              "      <td>24.0</td>\n",
              "    </tr>\n",
              "    <tr>\n",
              "      <th>2</th>\n",
              "      <td>MDIGIDSDPQKTNAVPRPKLVVGLVVDQMRWDYLYRYYSKYGEGGF...</td>\n",
              "      <td>L56V</td>\n",
              "      <td>1100000</td>\n",
              "      <td>210000</td>\n",
              "      <td>8.7</td>\n",
              "    </tr>\n",
              "    <tr>\n",
              "      <th>3</th>\n",
              "      <td>MDIGIDSDPQKTNAVPRPKLVVGLVVDQMRWDYLYRYYSKYGEGGF...</td>\n",
              "      <td>L314G</td>\n",
              "      <td>22000</td>\n",
              "      <td>4100</td>\n",
              "      <td>1.3</td>\n",
              "    </tr>\n",
              "    <tr>\n",
              "      <th>4</th>\n",
              "      <td>MDIGIDSDPQKTNAVPRPKLVVGLVVDQMRWDYLYRYYSKYGEGGF...</td>\n",
              "      <td>G278A</td>\n",
              "      <td>1100000</td>\n",
              "      <td>180000</td>\n",
              "      <td>12.0</td>\n",
              "    </tr>\n",
              "  </tbody>\n",
              "</table>\n",
              "</div>"
            ],
            "text/plain": [
              "                                    mutated_sequence mutant   \n",
              "0  MDIGIDSDPQKTNAVPRPKLVVGLVVDQMRWDYLYRYYSKYGEGGF...     WT  \\\n",
              "1  MDIGIDSDPQKTNAVPRPKLVVGLVVDQMRWDYLYRYYSKYGEGGF...  S115G   \n",
              "2  MDIGIDSDPQKTNAVPRPKLVVGLVVDQMRWDYLYRYYSKYGEGGF...   L56V   \n",
              "3  MDIGIDSDPQKTNAVPRPKLVVGLVVDQMRWDYLYRYYSKYGEGGF...  L314G   \n",
              "4  MDIGIDSDPQKTNAVPRPKLVVGLVVDQMRWDYLYRYYSKYGEGGF...  G278A   \n",
              "\n",
              "   Carboxy 4-methylumbelliferyl phosphate ester (cMUP)   \n",
              "0                                            1400000    \\\n",
              "1                                             820000     \n",
              "2                                            1100000     \n",
              "3                                              22000     \n",
              "4                                            1100000     \n",
              "\n",
              "   methyl phosphate (MeP)  methyl phosphodiester (MecMUP)  \n",
              "0                  610000                            16.0  \n",
              "1                  380000                            24.0  \n",
              "2                  210000                             8.7  \n",
              "3                    4100                             1.3  \n",
              "4                  180000                            12.0  "
            ]
          },
          "execution_count": 54,
          "metadata": {},
          "output_type": "execute_result"
        }
      ],
      "source": [
        "train.head()"
      ]
    },
    {
      "cell_type": "code",
      "execution_count": 55,
      "metadata": {
        "colab": {
          "base_uri": "https://localhost:8080/",
          "height": 268
        },
        "id": "GYWBv_0PCSzV",
        "outputId": "893b4b82-b62c-455e-a3dc-4781579360ed"
      },
      "outputs": [
        {
          "data": {
            "text/html": [
              "<div>\n",
              "<style scoped>\n",
              "    .dataframe tbody tr th:only-of-type {\n",
              "        vertical-align: middle;\n",
              "    }\n",
              "\n",
              "    .dataframe tbody tr th {\n",
              "        vertical-align: top;\n",
              "    }\n",
              "\n",
              "    .dataframe thead th {\n",
              "        text-align: right;\n",
              "    }\n",
              "</style>\n",
              "<table border=\"1\" class=\"dataframe\">\n",
              "  <thead>\n",
              "    <tr style=\"text-align: right;\">\n",
              "      <th></th>\n",
              "      <th>mutated_sequence</th>\n",
              "      <th>mutant</th>\n",
              "      <th>Carboxy 4-methylumbelliferyl phosphate ester (cMUP)</th>\n",
              "      <th>methyl phosphate (MeP)</th>\n",
              "      <th>methyl phosphodiester (MecMUP)</th>\n",
              "    </tr>\n",
              "  </thead>\n",
              "  <tbody>\n",
              "    <tr>\n",
              "      <th>0</th>\n",
              "      <td>MDIGIDSDPQKTNAVPRPKLVVGLVVDQMRWDYLYRYYSKYGEGGF...</td>\n",
              "      <td>G228A</td>\n",
              "      <td>0.393</td>\n",
              "      <td>0.393</td>\n",
              "      <td>0.393</td>\n",
              "    </tr>\n",
              "    <tr>\n",
              "      <th>1</th>\n",
              "      <td>MDIGIDSDPQKTNAVPRPKLVVGLVVDQMRWDYLYRYYSKYGEGGF...</td>\n",
              "      <td>G491A</td>\n",
              "      <td>0.393</td>\n",
              "      <td>0.393</td>\n",
              "      <td>0.393</td>\n",
              "    </tr>\n",
              "    <tr>\n",
              "      <th>2</th>\n",
              "      <td>MDIGIDSDPQKTNAVPRPKLVVGLVVDQMRWDYLYRYYSKYGEGGF...</td>\n",
              "      <td>M387V</td>\n",
              "      <td>0.393</td>\n",
              "      <td>0.393</td>\n",
              "      <td>0.393</td>\n",
              "    </tr>\n",
              "    <tr>\n",
              "      <th>3</th>\n",
              "      <td>MDIGIDSDPQKGLVVDQMRWDYLYRYYSKYGEGGFKRMLNTGYSLN...</td>\n",
              "      <td>T12G</td>\n",
              "      <td>0.393</td>\n",
              "      <td>0.393</td>\n",
              "      <td>0.393</td>\n",
              "    </tr>\n",
              "    <tr>\n",
              "      <th>4</th>\n",
              "      <td>MDIGIDSDPQKTNAVPRPKLVVGLVVDQMRWDYLYRYYSKYGEGGF...</td>\n",
              "      <td>E430V</td>\n",
              "      <td>0.393</td>\n",
              "      <td>0.393</td>\n",
              "      <td>0.393</td>\n",
              "    </tr>\n",
              "  </tbody>\n",
              "</table>\n",
              "</div>"
            ],
            "text/plain": [
              "                                    mutated_sequence mutant   \n",
              "0  MDIGIDSDPQKTNAVPRPKLVVGLVVDQMRWDYLYRYYSKYGEGGF...  G228A  \\\n",
              "1  MDIGIDSDPQKTNAVPRPKLVVGLVVDQMRWDYLYRYYSKYGEGGF...  G491A   \n",
              "2  MDIGIDSDPQKTNAVPRPKLVVGLVVDQMRWDYLYRYYSKYGEGGF...  M387V   \n",
              "3  MDIGIDSDPQKGLVVDQMRWDYLYRYYSKYGEGGFKRMLNTGYSLN...   T12G   \n",
              "4  MDIGIDSDPQKTNAVPRPKLVVGLVVDQMRWDYLYRYYSKYGEGGF...  E430V   \n",
              "\n",
              "   Carboxy 4-methylumbelliferyl phosphate ester (cMUP)   \n",
              "0                                              0.393    \\\n",
              "1                                              0.393     \n",
              "2                                              0.393     \n",
              "3                                              0.393     \n",
              "4                                              0.393     \n",
              "\n",
              "   methyl phosphate (MeP)  methyl phosphodiester (MecMUP)  \n",
              "0                   0.393                           0.393  \n",
              "1                   0.393                           0.393  \n",
              "2                   0.393                           0.393  \n",
              "3                   0.393                           0.393  \n",
              "4                   0.393                           0.393  "
            ]
          },
          "execution_count": 55,
          "metadata": {},
          "output_type": "execute_result"
        }
      ],
      "source": [
        "test.head()"
      ]
    },
    {
      "cell_type": "code",
      "execution_count": 56,
      "metadata": {
        "colab": {
          "base_uri": "https://localhost:8080/"
        },
        "id": "Xx5lC2pfCSw5",
        "outputId": "d97b0931-f41c-44a3-a7f7-3f05665fb0c0"
      },
      "outputs": [
        {
          "data": {
            "text/plain": [
              "mutated_sequence                                       0\n",
              "mutant                                                 0\n",
              "Carboxy 4-methylumbelliferyl phosphate ester (cMUP)    0\n",
              "methyl phosphate (MeP)                                 0\n",
              "methyl phosphodiester (MecMUP)                         0\n",
              "dtype: int64"
            ]
          },
          "execution_count": 56,
          "metadata": {},
          "output_type": "execute_result"
        }
      ],
      "source": [
        "# Check NA counts\n",
        "train.isnull().sum()"
      ]
    },
    {
      "cell_type": "code",
      "execution_count": 57,
      "metadata": {
        "colab": {
          "base_uri": "https://localhost:8080/"
        },
        "id": "2Lbl8HgICStD",
        "outputId": "efc53f49-bf44-4d3f-8b39-9aabd56f0bf4"
      },
      "outputs": [
        {
          "name": "stdout",
          "output_type": "stream",
          "text": [
            "937 is the number of enzymes that have label and sequence\n"
          ]
        }
      ],
      "source": [
        "# Drop rows with missing values\n",
        "train= train.dropna()\n",
        "print('%d is the number of enzymes that have label and sequence' %train.shape[0])"
      ]
    },
    {
      "cell_type": "markdown",
      "metadata": {
        "id": "lmbD91zQDsJ4"
      },
      "source": [
        "Lastly, it's important to look at the types of family groups that clasification can be.\n"
      ]
    },
    {
      "cell_type": "code",
      "execution_count": 58,
      "metadata": {
        "id": "QkvIYA1-DJ64"
      },
      "outputs": [],
      "source": [
        "# # Look at classification type counts\n",
        "# counts = train.LABEL.value_counts()\n",
        "# print(counts)\n",
        "\n",
        "# #plot counts\n",
        "# plt.figure()\n",
        "# sns.distplot(counts, hist = False, color = 'purple')\n",
        "# plt.title('Count Distribution for Family Types')\n",
        "# plt.ylabel('% of records')\n",
        "# plt.show()"
      ]
    },
    {
      "cell_type": "code",
      "execution_count": 9,
      "metadata": {
        "id": "AhwtHk6MDJ3M"
      },
      "outputs": [],
      "source": [
        "# # Get classification types where counts are over 10000\n",
        "# types = np.asarray(counts[(counts > 10000)].index)\n",
        "\n",
        "# # Filter dataset's records for classification types > 10000\n",
        "# data = train[train.LABEL.isin(types)]\n",
        "\n",
        "# print(types)\n",
        "# print('%d is the number of records in the final filtered dataset' %data.shape[0])"
      ]
    },
    {
      "cell_type": "markdown",
      "metadata": {
        "id": "6iYRuUkuZRtu"
      },
      "source": [
        "# ----- Train Test Split -----"
      ]
    },
    {
      "cell_type": "code",
      "execution_count": 11,
      "metadata": {
        "colab": {
          "base_uri": "https://localhost:8080/"
        },
        "id": "nztAHxvmIS1d",
        "outputId": "beda8c78-a724-407b-d976-9d8fedb38e4c"
      },
      "outputs": [
        {
          "name": "stdout",
          "output_type": "stream",
          "text": [
            "['yvlv' 'yvmt' 'yvmv' 'yvnk' 'yvpg' 'yvpt' 'yvpv' 'yvrm' 'yvts' 'yvvd'\n",
            " 'yvve' 'yvvt' 'yvvw' 'yvyd' 'yygn' 'yysg' 'yysk' 'yytg' 'yytk' 'yyvn']\n"
          ]
        }
      ],
      "source": [
        "# Split Data\n",
        "X_train, X_test,y_train,y_test = train_test_split(train['mutated_sequence'], train['Carboxy 4-methylumbelliferyl phosphate ester (cMUP)'], test_size = 0.2, random_state = 1)\n",
        "\n",
        "# Create a Count Vectorizer to gather the unique elements in sequence\n",
        "vect = CountVectorizer(analyzer = 'char_wb', ngram_range = (4,4))\n",
        "\n",
        "# Fit and Transform CountVectorizer\n",
        "vect.fit(X_train)\n",
        "X_train_df = vect.transform(X_train)\n",
        "X_test_df = vect.transform(X_test)\n",
        "\n",
        "#Print a few of the features\n",
        "print(vect.get_feature_names_out()[-20:])"
      ]
    },
    {
      "cell_type": "markdown",
      "metadata": {
        "id": "-k9MY26dZYVX"
      },
      "source": [
        "#------ Machine Learning Models ------"
      ]
    },
    {
      "cell_type": "markdown",
      "metadata": {
        "id": "9ufvi2vzYWYl"
      },
      "source": [
        "#MultinomialNB:"
      ]
    },
    {
      "cell_type": "code",
      "execution_count": 14,
      "metadata": {
        "id": "AiufP30s7ITS"
      },
      "outputs": [],
      "source": [
        "import xgboost as xg\n",
        "from sklearn.metrics import mean_squared_error as MSE\n"
      ]
    },
    {
      "cell_type": "code",
      "execution_count": 15,
      "metadata": {
        "colab": {
          "base_uri": "https://localhost:8080/"
        },
        "id": "1jJWXp0bDJrx",
        "outputId": "f4bfb927-a9a2-4ee4-8f00-e035b74d9635"
      },
      "outputs": [
        {
          "name": "stdout",
          "output_type": "stream",
          "text": [
            "[22:02:38] WARNING: ../src/objective/regression_obj.cu:213: reg:linear is now deprecated in favor of reg:squarederror.\n",
            "773234.8445749626\n"
          ]
        }
      ],
      "source": [
        "# Make a prediction dictionary to store accuracys\n",
        "prediction = dict()\n",
        "\n",
        "# Naive Bayes Model\n",
        "#from sklearn.naive_bayes import MultinomialNB\n",
        "model = xg.XGBRegressor(objective ='reg:linear',\n",
        "                  n_estimators = 10, seed = 123)\n",
        "model.fit(X_train_df, y_train)\n",
        "y_pred = model.predict(X_test_df)\n",
        "prediction[\"MultinomialNB\"] = np.sqrt(MSE(y_test, y_pred))\n",
        "print( prediction['MultinomialNB'])"
      ]
    },
    {
      "cell_type": "code",
      "execution_count": null,
      "metadata": {
        "id": "1XA-S49uXUIC"
      },
      "outputs": [],
      "source": [
        "#Allsub = pd.DataFrame({'SEQUENCE_ID':test['SEQUENCE_ID'],\n",
        "#                       'LABEL':sub_test_pred})\n",
        "#Allsub.to_csv(\"Submission_MultinomialNB.csv\", index = False)"
      ]
    },
    {
      "cell_type": "markdown",
      "metadata": {
        "id": "DC3h7VM9IJIe"
      },
      "source": [
        "## Using Protein Bert"
      ]
    },
    {
      "cell_type": "code",
      "execution_count": 59,
      "metadata": {
        "colab": {
          "base_uri": "https://localhost:8080/"
        },
        "id": "7JLuB4SKCCF2",
        "outputId": "93917011-df99-421a-d1ac-90939413fd23"
      },
      "outputs": [
        {
          "name": "stdout",
          "output_type": "stream",
          "text": [
            "\u001b[33mWARNING: Ignoring invalid distribution -andas (/Users/ndjebayidamarisstephanie/miniconda3/lib/python3.10/site-packages)\u001b[0m\u001b[33m\n",
            "\u001b[0mRequirement already satisfied: transformers in /Users/ndjebayidamarisstephanie/miniconda3/lib/python3.10/site-packages (4.29.2)\n",
            "Requirement already satisfied: filelock in /Users/ndjebayidamarisstephanie/miniconda3/lib/python3.10/site-packages (from transformers) (3.12.0)\n",
            "Requirement already satisfied: huggingface-hub<1.0,>=0.14.1 in /Users/ndjebayidamarisstephanie/miniconda3/lib/python3.10/site-packages (from transformers) (0.14.1)\n",
            "Requirement already satisfied: numpy>=1.17 in /Users/ndjebayidamarisstephanie/miniconda3/lib/python3.10/site-packages (from transformers) (1.24.3)\n",
            "Requirement already satisfied: packaging>=20.0 in /Users/ndjebayidamarisstephanie/miniconda3/lib/python3.10/site-packages (from transformers) (23.0)\n",
            "Requirement already satisfied: pyyaml>=5.1 in /Users/ndjebayidamarisstephanie/miniconda3/lib/python3.10/site-packages (from transformers) (5.1)\n",
            "Requirement already satisfied: regex!=2019.12.17 in /Users/ndjebayidamarisstephanie/miniconda3/lib/python3.10/site-packages (from transformers) (2023.5.5)\n",
            "Requirement already satisfied: requests in /Users/ndjebayidamarisstephanie/miniconda3/lib/python3.10/site-packages (from transformers) (2.21.0)\n",
            "Requirement already satisfied: tokenizers!=0.11.3,<0.14,>=0.11.1 in /Users/ndjebayidamarisstephanie/miniconda3/lib/python3.10/site-packages (from transformers) (0.13.3)\n",
            "Requirement already satisfied: tqdm>=4.27 in /Users/ndjebayidamarisstephanie/miniconda3/lib/python3.10/site-packages (from transformers) (4.65.0)\n",
            "Requirement already satisfied: fsspec in /Users/ndjebayidamarisstephanie/miniconda3/lib/python3.10/site-packages (from huggingface-hub<1.0,>=0.14.1->transformers) (2023.5.0)\n",
            "Requirement already satisfied: typing-extensions>=3.7.4.3 in /Users/ndjebayidamarisstephanie/miniconda3/lib/python3.10/site-packages (from huggingface-hub<1.0,>=0.14.1->transformers) (4.5.0)\n",
            "Requirement already satisfied: chardet<3.1.0,>=3.0.2 in /Users/ndjebayidamarisstephanie/miniconda3/lib/python3.10/site-packages (from requests->transformers) (3.0.4)\n",
            "Requirement already satisfied: idna<2.9,>=2.5 in /Users/ndjebayidamarisstephanie/miniconda3/lib/python3.10/site-packages (from requests->transformers) (2.8)\n",
            "Requirement already satisfied: urllib3<1.25,>=1.21.1 in /Users/ndjebayidamarisstephanie/miniconda3/lib/python3.10/site-packages (from requests->transformers) (1.24.3)\n",
            "Requirement already satisfied: certifi>=2017.4.17 in /Users/ndjebayidamarisstephanie/miniconda3/lib/python3.10/site-packages (from requests->transformers) (2022.12.7)\n",
            "\u001b[33mWARNING: Ignoring invalid distribution -andas (/Users/ndjebayidamarisstephanie/miniconda3/lib/python3.10/site-packages)\u001b[0m\u001b[33m\n",
            "\u001b[0m"
          ]
        }
      ],
      "source": [
        "! pip install transformers"
      ]
    },
    {
      "cell_type": "code",
      "execution_count": 60,
      "metadata": {
        "colab": {
          "base_uri": "https://localhost:8080/"
        },
        "id": "jY2IR9gKCCsN",
        "outputId": "3994b814-30f1-4952-fda6-5a7005927cb9"
      },
      "outputs": [
        {
          "name": "stderr",
          "output_type": "stream",
          "text": [
            "Some weights of the model checkpoint at Rostlab/prot_bert_bfd were not used when initializing BertModel: ['cls.predictions.decoder.bias', 'cls.predictions.bias', 'cls.seq_relationship.weight', 'cls.predictions.transform.LayerNorm.weight', 'cls.seq_relationship.bias', 'cls.predictions.transform.LayerNorm.bias', 'cls.predictions.transform.dense.bias', 'cls.predictions.decoder.weight', 'cls.predictions.transform.dense.weight']\n",
            "- This IS expected if you are initializing BertModel from the checkpoint of a model trained on another task or with another architecture (e.g. initializing a BertForSequenceClassification model from a BertForPreTraining model).\n",
            "- This IS NOT expected if you are initializing BertModel from the checkpoint of a model that you expect to be exactly identical (initializing a BertForSequenceClassification model from a BertForSequenceClassification model).\n",
            "Asking to truncate to max_length but no maximum length is provided and the model has no predefined maximum length. Default to no truncation.\n"
          ]
        }
      ],
      "source": [
        "from transformers import BertModel, BertTokenizer\n",
        "\n",
        "# Load the ProteinBERT model and tokenizer\n",
        "model_name = \"Rostlab/prot_bert_bfd\"\n",
        "model = BertModel.from_pretrained(model_name)\n",
        "tokenizer = BertTokenizer.from_pretrained(model_name)\n",
        "embeddings_data = []\n",
        "\n",
        "# Example protein sequence\n",
        "for protein_sequence in train['mutated_sequence']:\n",
        "\n",
        "  #protein_sequence = \"MAEGEITTFTALTEKFNLPPGNYKKPKLLYCSNGGHFLRILPDGTVDGTRDRSDQHIQLQLSAESVGEVYIKSTETGQYLAMDTSGLLYGSQTPSEECLFLERLEENHYNTYISKKHAEKNWFVGLKKNGSCKRGPRTHYGQKAILFLPLPV\"\n",
        "\n",
        "  # Tokenize the protein sequence\n",
        "  tokens = tokenizer.encode_plus(protein_sequence, padding=True, truncation=True, return_tensors=\"pt\")\n",
        "\n",
        "  # Get the input tensors\n",
        "  input_ids = tokens['input_ids']  # Tensor of token IDs\n",
        "  attention_mask = tokens['attention_mask']  # Tensor indicating which tokens to attend to\n",
        "\n",
        "  # Forward pass through the model\n",
        "  outputs = model(input_ids, attention_mask=attention_mask)\n",
        "\n",
        "  # Get the embeddings for the whole protein sequence\n",
        "  embeddings = outputs.last_hidden_state\n",
        "  embeddings_data.append(embeddings)\n",
        "\n"
      ]
    },
    {
      "cell_type": "code",
      "execution_count": 86,
      "metadata": {},
      "outputs": [
        {
          "name": "stderr",
          "output_type": "stream",
          "text": [
            "Some weights of the model checkpoint at Rostlab/prot_bert_bfd were not used when initializing BertModel: ['cls.predictions.decoder.bias', 'cls.predictions.bias', 'cls.seq_relationship.weight', 'cls.predictions.transform.LayerNorm.weight', 'cls.seq_relationship.bias', 'cls.predictions.transform.LayerNorm.bias', 'cls.predictions.transform.dense.bias', 'cls.predictions.decoder.weight', 'cls.predictions.transform.dense.weight']\n",
            "- This IS expected if you are initializing BertModel from the checkpoint of a model trained on another task or with another architecture (e.g. initializing a BertForSequenceClassification model from a BertForPreTraining model).\n",
            "- This IS NOT expected if you are initializing BertModel from the checkpoint of a model that you expect to be exactly identical (initializing a BertForSequenceClassification model from a BertForSequenceClassification model).\n",
            "Asking to truncate to max_length but no maximum length is provided and the model has no predefined maximum length. Default to no truncation.\n"
          ]
        }
      ],
      "source": [
        "from transformers import BertModel, BertTokenizer\n",
        "\n",
        "# Load the ProteinBERT model and tokenizer\n",
        "model_name = \"Rostlab/prot_bert_bfd\"\n",
        "model = BertModel.from_pretrained(model_name)\n",
        "tokenizer = BertTokenizer.from_pretrained(model_name)\n",
        "\n",
        "test_embeddings_data = []\n",
        "for protein_sequence in test['mutated_sequence']:\n",
        "\n",
        "  #protein_sequence = \"MAEGEITTFTALTEKFNLPPGNYKKPKLLYCSNGGHFLRILPDGTVDGTRDRSDQHIQLQLSAESVGEVYIKSTETGQYLAMDTSGLLYGSQTPSEECLFLERLEENHYNTYISKKHAEKNWFVGLKKNGSCKRGPRTHYGQKAILFLPLPV\"\n",
        "\n",
        "  # Tokenize the protein sequence\n",
        "  tokens = tokenizer.encode_plus(protein_sequence, padding=True, truncation=True, return_tensors=\"pt\")\n",
        "\n",
        "  # Get the input tensors\n",
        "  input_ids = tokens['input_ids']  # Tensor of token IDs\n",
        "  attention_mask = tokens['attention_mask']  # Tensor indicating which tokens to attend to\n",
        "\n",
        "  # Forward pass through the model\n",
        "  outputs = model(input_ids, attention_mask=attention_mask)\n",
        "\n",
        "  # Get the embeddings for the whole protein sequence\n",
        "  embeddings = outputs.last_hidden_state\n",
        "  test_embeddings_data.append(embeddings)"
      ]
    },
    {
      "cell_type": "code",
      "execution_count": 61,
      "metadata": {
        "id": "kIUxcx0yeYli"
      },
      "outputs": [],
      "source": [
        "import pickle\n",
        "from os.path import join as pjoin"
      ]
    },
    {
      "cell_type": "code",
      "execution_count": 15,
      "metadata": {
        "id": "Nyvr6wHydq-z"
      },
      "outputs": [],
      "source": [
        "dir = 'data/'\n",
        "file_1 = 'embeddings_protein_bert_train_data.pkl'\n",
        "\n",
        "path_embeddings = pjoin(dir,file_1)\n",
        "with open(path_embeddings, 'wb') as f:\n",
        "  pickle.dump(embeddings_data, f)"
      ]
    },
    {
      "cell_type": "code",
      "execution_count": 87,
      "metadata": {},
      "outputs": [],
      "source": [
        "dir = 'data/'\n",
        "file_1 = 'embeddings_protein_bert_test_data.pkl'\n",
        "\n",
        "path_embeddings = pjoin(dir,file_1)\n",
        "with open(path_embeddings, 'wb') as g:\n",
        "  pickle.dump(test_embeddings_data, g)\n",
        "\n",
        "g.close()"
      ]
    },
    {
      "cell_type": "code",
      "execution_count": 73,
      "metadata": {},
      "outputs": [],
      "source": [
        "import torch"
      ]
    },
    {
      "cell_type": "code",
      "execution_count": 77,
      "metadata": {},
      "outputs": [
        {
          "name": "stdout",
          "output_type": "stream",
          "text": [
            "[tensor([1, 2, 3, 4]), tensor([5, 6, 7, 8])]\n"
          ]
        }
      ],
      "source": [
        "# Assuming the given list of tensors is named \"tensor_list\"\n",
        "tensor_list = [torch.tensor([[1, 2], [3, 4]]), torch.tensor([[5, 6], [7, 8]])]\n",
        "\n",
        "# Concatenate the tensors along the desired dimension (0 in this case)\n",
        "#concatenated_tensor = torch.cat(tensor_list, dim=1)\n",
        "\n",
        "# Flatten the concatenated tensor\n",
        "flattened_tensor = [elt.view(-1) for elt in tensor_list]\n",
        "\n",
        "# Printing the flattened tensor\n",
        "print(flattened_tensor)"
      ]
    },
    {
      "cell_type": "code",
      "execution_count": 79,
      "metadata": {},
      "outputs": [
        {
          "data": {
            "text/plain": [
              "3072"
            ]
          },
          "execution_count": 79,
          "metadata": {},
          "output_type": "execute_result"
        }
      ],
      "source": [
        "len(embeddings_data[0].flatten().tolist())"
      ]
    },
    {
      "cell_type": "code",
      "execution_count": 81,
      "metadata": {
        "colab": {
          "base_uri": "https://localhost:8080/"
        },
        "id": "79-KVaAiFq33",
        "outputId": "e9a380d8-b56a-4de9-8c7c-06ed3f69bbef"
      },
      "outputs": [
        {
          "data": {
            "text/plain": [
              "937"
            ]
          },
          "execution_count": 81,
          "metadata": {},
          "output_type": "execute_result"
        }
      ],
      "source": [
        "# Flatten the embeddings\n",
        "train_flattened_embeddings = [elt.flatten().tolist() for elt in embeddings_data]\n",
        "len(train_flattened_embeddings)\n",
        "\n",
        "# test_flattened_embeddings = embeddings.reshape(test_embeddings.shape[0], -1)\n",
        "# test_flattened_embeddings"
      ]
    },
    {
      "cell_type": "code",
      "execution_count": 88,
      "metadata": {
        "id": "pRO8q2UVJIwD"
      },
      "outputs": [
        {
          "data": {
            "text/plain": [
              "103"
            ]
          },
          "execution_count": 88,
          "metadata": {},
          "output_type": "execute_result"
        }
      ],
      "source": [
        "test_flattened_embeddings = [elt.flatten().tolist() for elt in test_embeddings_data]\n",
        "len(test_flattened_embeddings)"
      ]
    },
    {
      "cell_type": "code",
      "execution_count": 82,
      "metadata": {
        "id": "XlzZFlpEFwIM"
      },
      "outputs": [],
      "source": [
        "# from sklearn.model_selection import train_test_split\n",
        "\n",
        "# # Split the data into training and validation sets\n",
        "X_train, y_train = train_flattened_embeddings, train['Carboxy 4-methylumbelliferyl phosphate ester (cMUP)']\n",
        "#X_test, y_test = test['mutated_sequence'], test['Carboxy 4-methylumbelliferyl phosphate ester (cMUP)']"
      ]
    },
    {
      "cell_type": "code",
      "execution_count": 89,
      "metadata": {},
      "outputs": [],
      "source": [
        "X_test, y_test = test_flattened_embeddings, test['Carboxy 4-methylumbelliferyl phosphate ester (cMUP)']"
      ]
    },
    {
      "cell_type": "markdown",
      "metadata": {
        "id": "nd-1G7S6YlHd"
      },
      "source": [
        "### Using XGBoost Regressor"
      ]
    },
    {
      "cell_type": "code",
      "execution_count": 91,
      "metadata": {
        "id": "pMY8xKvBFwxF"
      },
      "outputs": [
        {
          "name": "stdout",
          "output_type": "stream",
          "text": [
            "[01:18:39] WARNING: /Users/runner/work/xgboost/xgboost/python-package/build/temp.macosx-11.0-arm64-cpython-38/xgboost/src/objective/regression_obj.cu:213: reg:linear is now deprecated in favor of reg:squarederror.\n"
          ]
        }
      ],
      "source": [
        "import xgboost as xg\n",
        "from sklearn.metrics import mean_squared_error\n",
        "\n",
        "\n",
        "# Initialize regression model\n",
        "model = xg.XGBRegressor(objective ='reg:linear',\n",
        "                  n_estimators = 10, seed = 123)\n",
        "\n",
        "# Train the model\n",
        "model.fit(X_train, y_train)\n",
        "\n",
        "# Make predictions on training set\n",
        "y_xpred = model.predict(X_train)\n",
        "\n"
      ]
    },
    {
      "cell_type": "code",
      "execution_count": 92,
      "metadata": {
        "id": "OmYirb5zHDLO"
      },
      "outputs": [],
      "source": [
        "# Evaluate on validation set\n",
        "y_pred = model.predict(X_test)\n",
        "val_mse = mean_squared_error(y_test, y_pred)"
      ]
    },
    {
      "cell_type": "code",
      "execution_count": 93,
      "metadata": {},
      "outputs": [
        {
          "data": {
            "text/plain": [
              "1080365055268.8949"
            ]
          },
          "execution_count": 93,
          "metadata": {},
          "output_type": "execute_result"
        }
      ],
      "source": [
        "val_mse"
      ]
    },
    {
      "cell_type": "markdown",
      "metadata": {
        "id": "7nxmdOM6Ywek"
      },
      "source": [
        "### Using SVR"
      ]
    },
    {
      "cell_type": "code",
      "execution_count": 94,
      "metadata": {
        "id": "2qpwR9XIZDzQ"
      },
      "outputs": [],
      "source": [
        "from sklearn.svm import SVR"
      ]
    },
    {
      "cell_type": "code",
      "execution_count": 95,
      "metadata": {
        "id": "cRN5oqshaHd4"
      },
      "outputs": [],
      "source": [
        "# Initialize regression model\n",
        "regressor = SVR(kernel='rbf')\n",
        "\n",
        "# Train the model\n",
        "regressor.fit(X_train, y_train)\n",
        "\n",
        "# Evaluate on validation set\n",
        "y_pred = regressor.predict(X_test)\n",
        "\n",
        "#compute the mse\n",
        "val_mse = mean_squared_error(y_test, y_pred)"
      ]
    },
    {
      "cell_type": "code",
      "execution_count": 96,
      "metadata": {},
      "outputs": [
        {
          "data": {
            "text/plain": [
              "1209998915400.2432"
            ]
          },
          "execution_count": 96,
          "metadata": {},
          "output_type": "execute_result"
        }
      ],
      "source": [
        "val_mse"
      ]
    },
    {
      "cell_type": "code",
      "execution_count": null,
      "metadata": {
        "id": "m4_fhvq7bFm1"
      },
      "outputs": [],
      "source": []
    },
    {
      "cell_type": "markdown",
      "metadata": {
        "id": "0p4bKpJHYj-q"
      },
      "source": [
        "### Using Random Forest Regression\n"
      ]
    },
    {
      "cell_type": "code",
      "execution_count": 97,
      "metadata": {
        "id": "T3xvrATgbTMO"
      },
      "outputs": [],
      "source": [
        "from sklearn.ensemble import RandomForestClassifier"
      ]
    },
    {
      "cell_type": "code",
      "execution_count": 99,
      "metadata": {
        "id": "Mrsy4LdlbTE6"
      },
      "outputs": [
        {
          "name": "stderr",
          "output_type": "stream",
          "text": [
            "/Users/ndjebayidamarisstephanie/miniconda3/lib/python3.10/site-packages/sklearn/ensemble/_forest.py:424: FutureWarning: `max_features='auto'` has been deprecated in 1.1 and will be removed in 1.3. To keep the past behaviour, explicitly set `max_features='sqrt'` or remove this parameter as it is also the default value for RandomForestClassifiers and ExtraTreesClassifiers.\n",
            "  warn(\n"
          ]
        }
      ],
      "source": [
        "# Initialize regression model\n",
        "regressor = RandomForestClassifier(n_estimators=100, max_features=\"auto\", random_state=44)\n",
        "\n",
        "# Train the model\n",
        "regressor.fit(X_train, y_train)\n",
        "\n",
        "# Evaluate on validation set\n",
        "y_pred = regressor.predict(X_test)\n",
        "\n",
        "#compute the mse\n",
        "val_mse = mean_squared_error(y_test, y_pred)"
      ]
    },
    {
      "cell_type": "code",
      "execution_count": 100,
      "metadata": {
        "id": "awpEbMZbcYhn"
      },
      "outputs": [
        {
          "data": {
            "text/plain": [
              "1959998899600.155"
            ]
          },
          "execution_count": 100,
          "metadata": {},
          "output_type": "execute_result"
        }
      ],
      "source": [
        "val_mse"
      ]
    },
    {
      "cell_type": "markdown",
      "metadata": {
        "id": "kgRAOynEYQQT"
      },
      "source": [
        "# Adaboost:"
      ]
    },
    {
      "cell_type": "code",
      "execution_count": null,
      "metadata": {
        "colab": {
          "base_uri": "https://localhost:8080/"
        },
        "id": "2P2qdEctR098",
        "outputId": "78e333e3-67f0-40b0-b7cf-3e43f8501da2"
      },
      "outputs": [
        {
          "name": "stdout",
          "output_type": "stream",
          "text": [
            "0.3707876289620159\n"
          ]
        }
      ],
      "source": [
        "# Adaboost\n",
        "from sklearn.ensemble import AdaBoostClassifier\n",
        "model2 = AdaBoostClassifier()\n",
        "model2.fit(X_train_df,y_train)\n",
        "ADA_pred = model2.predict(X_test_df)\n",
        "prediction[\"Adaboost\"] = accuracy_score(ADA_pred , y_test)\n",
        "print(prediction[\"Adaboost\"])"
      ]
    },
    {
      "cell_type": "code",
      "execution_count": null,
      "metadata": {
        "id": "iJMkWT9sYBQa"
      },
      "outputs": [],
      "source": [
        "#sub_test = test.drop(['SEQUENCE_ID'], axis =1)\n",
        "#sub_test_pred = model2.predict(sub_test)"
      ]
    },
    {
      "cell_type": "code",
      "execution_count": null,
      "metadata": {
        "id": "ip41PxbHYDdC"
      },
      "outputs": [],
      "source": [
        "#Allsub = pd.DataFrame({'SEQUENCE_ID':test['SEQUENCE_ID'],\n",
        "#                       'LABEL':sub_test_pred})\n",
        "#Allsub.to_csv(\"Submission_Adaboost.csv\", index = False)"
      ]
    },
    {
      "cell_type": "markdown",
      "metadata": {
        "id": "xefvAddGYgRz"
      },
      "source": [
        "#Plot Confusion Matrix for MultinomialNB:"
      ]
    },
    {
      "cell_type": "code",
      "execution_count": null,
      "metadata": {
        "colab": {
          "base_uri": "https://localhost:8080/",
          "height": 500
        },
        "id": "rB92C_LtR6tQ",
        "outputId": "20cd0177-e7e3-41f8-81aa-4c850f42be40"
      },
      "outputs": [
        {
          "data": {
            "text/plain": [
              "<matplotlib.axes._subplots.AxesSubplot at 0x7f4abf077978>"
            ]
          },
          "execution_count": 41,
          "metadata": {
            "tags": []
          },
          "output_type": "execute_result"
        },
        {
          "data": {
            "image/png": "[encoded data removed]",
            "text/plain": [
              "<Figure size 936x576 with 2 Axes>"
            ]
          },
          "metadata": {
            "needs_background": "light",
            "tags": []
          },
          "output_type": "display_data"
        }
      ],
      "source": [
        "# Plot confusion matrix\n",
        "conf_mat = confusion_matrix(y_test, NB_pred, labels = types)\n",
        "\n",
        "#Normalize confusion_matrix\n",
        "conf_mat = conf_mat.astype('float')/ conf_mat.sum(axis=1)[:, np.newaxis]\n",
        "\n",
        "# Plot Heat Map\n",
        "fig , ax = plt.subplots()\n",
        "fig.set_size_inches(13, 8)\n",
        "sns.heatmap(conf_mat)"
      ]
    },
    {
      "cell_type": "markdown",
      "metadata": {
        "id": "uh1HtBAgHOf_"
      },
      "source": [
        "The confusion matrix shows label index 3 being misclassified as index 38 quite a bit. Based on the names listed below, it makes sense for these two to be confused.\n"
      ]
    },
    {
      "cell_type": "code",
      "execution_count": null,
      "metadata": {
        "id": "0-pArzq2WauF"
      },
      "outputs": [],
      "source": [
        "#print(types[16])\n",
        "#print(types[12])"
      ]
    },
    {
      "cell_type": "markdown",
      "metadata": {
        "id": "OwRWxvbDHWQE"
      },
      "source": [
        "Lastly, a matrix of the classification report to show case metrics for each class should be insightful\n"
      ]
    },
    {
      "cell_type": "code",
      "execution_count": null,
      "metadata": {
        "colab": {
          "base_uri": "https://localhost:8080/"
        },
        "id": "FpvjEamrWdg7",
        "outputId": "aa8bb3ae-418f-40aa-969f-7188577648ec"
      },
      "outputs": [
        {
          "name": "stdout",
          "output_type": "stream",
          "text": [
            "              precision    recall  f1-score   support\n",
            "\n",
            "     class19       0.98      0.96      0.97      2252\n",
            "     class11       1.00      0.87      0.93      7204\n",
            "      class2       0.68      0.97      0.80      7040\n",
            "      class6       0.72      0.96      0.82     12602\n",
            "      class8       0.48      0.95      0.63      7551\n",
            "     class12       0.98      0.94      0.96      5865\n",
            "      class5       0.99      0.93      0.96      3516\n",
            "      class9       0.99      0.87      0.93      2802\n",
            "      class1       0.92      0.95      0.93      5527\n",
            "     class10       1.00      0.96      0.98      2946\n",
            "      class3       0.99      0.90      0.94      2590\n",
            "      class4       1.00      0.61      0.76     51456\n",
            "     class13       0.92      0.85      0.88     10533\n",
            "     class16       0.98      0.92      0.95      6579\n",
            "      class7       0.99      0.93      0.96      6506\n",
            "     class14       0.92      0.99      0.96      7358\n",
            "     class17       0.92      0.94      0.93      9434\n",
            "     class15       0.71      0.99      0.83      3790\n",
            "     class18       0.63      0.97      0.77      8961\n",
            "      class0       0.77      0.95      0.85      7244\n",
            "\n",
            "    accuracy                           0.84    171756\n",
            "   macro avg       0.88      0.92      0.89    171756\n",
            "weighted avg       0.89      0.84      0.84    171756\n",
            "\n"
          ]
        }
      ],
      "source": [
        "#Print F1 score metrics\n",
        "print(classification_report(y_test, NB_pred, target_names = types))"
      ]
    },
    {
      "cell_type": "markdown",
      "metadata": {
        "id": "lMkpmhl8Hd5i"
      },
      "source": [
        "#Reasons for Model Error\n",
        "Proteins in general can be a type of enzyme, or a signaling protein, structural, and various other choices. A lof of proteins tend to share very similar characteristics, as some proteins are meant to bind in similar regions as others. For example, a Hydrolase enzyme and a Hydrolase inhibitor protein are going to have similar structures as they will target very similar areas. This is reflected in the confusion matrix and heat map. Gene regulator proteins will have a similarity to RNA binding proteins, DNA binding proteins, as well as transcription proteins. The biggest thing to note as well, as the model only uses features of 4 amino acids at most. The possibility of utilizing amino acids of higher degree in theory should be able to create an even higher accuracy.\n",
        "\n",
        "#Future Work\n",
        "There is definitely room for improvement for the model. Utilizing factors such as pH, molecular weight, and other components may be able to yield more information on family group. Furthermore, if possible, increase the length of the ngram_range to include more than just 4 characters to allow for higher interaction between the amino acids as reflected in reality"
      ]
    },
    {
      "cell_type": "code",
      "execution_count": null,
      "metadata": {
        "id": "cE-4vZySGpSn"
      },
      "outputs": [],
      "source": []
    },
    {
      "cell_type": "code",
      "execution_count": null,
      "metadata": {
        "id": "D-VwwA2qGpMW"
      },
      "outputs": [],
      "source": []
    }
  ],
  "metadata": {
    "accelerator": "GPU",
    "colab": {
      "provenance": []
    },
    "kernelspec": {
      "display_name": "base",
      "language": "python",
      "name": "python3"
    },
    "language_info": {
      "name": "python",
      "version": "3.10.10"
    },
    "vscode": {
      "interpreter": {
        "hash": "bd8035c783a606e7cd34e7399844e1bfd5d627e5822f8a8ddcc1170b41c4ce74"
      }
    }
  },
  "nbformat": 4,
  "nbformat_minor": 0
}
